{
 "cells": [
  {
   "cell_type": "markdown",
   "id": "04e2bddd",
   "metadata": {},
   "source": [
    "# Intro to Python: 2. Variables and Primitive Data Types\n",
    "Welcome to the second tutorial in our \"Intro to Python\" series! In this notebook, we'll cover the basics of variables and data types in Python.  \n",
    "By the end of this tutorial, you'll understand what variables are, the different data types in Python, and how to work with them."
   ]
  },
  {
   "cell_type": "markdown",
   "id": "418966f9",
   "metadata": {},
   "source": [
    "## 📚 Table of Contents\n",
    "\n",
    "1. [What are Variables](#1)\n",
    "   1. [Variable Naming Conventions](#1_1)\n",
    "\n",
    "2. [Data Types in Python](#2)\n",
    "   1. [Integers](#2_1)\n",
    "   2. [Floats](#2_2)\n",
    "   3. [Boolean](#2_3)\n",
    "   4. [Strings](#2_4)\n",
    "\n",
    "3. [Type Conversion](#3)\n",
    "\n",
    "4. [Operators and Expressions](#4)\n",
    "   1. [Arithmatic Operations](#4_1)\n",
    "   2. [String Operations](#4_2)\n",
    "   3. [Boolean Operations](#4_3)\n",
    "\n",
    "5. [Practical Examples](#5)\n",
    "\n",
    "6. [Exercise](#6)"
   ]
  },
  {
   "cell_type": "markdown",
   "id": "c643a2af",
   "metadata": {},
   "source": [
    "---\n",
    "## 1. What are Variables? <a id=\"1\"></a>\n",
    "\n",
    "A variable in Python is a reserved memory location to store values. In other words, a variable in a Python program gives data to the computer for processing.  \n",
    "Let's see some examples of how to declare variables in Python.\n"
   ]
  },
  {
   "cell_type": "code",
   "execution_count": null,
   "id": "aba9b31f",
   "metadata": {},
   "outputs": [],
   "source": [
    "# Declaring variables\n",
    "x = 5\n",
    "pi = 3.14\n",
    "name = \"Alice\"\n",
    "is_student = True\n",
    "\n",
    "print(x)\n",
    "print(pi)\n",
    "print(name)\n",
    "print(is_student)"
   ]
  },
  {
   "cell_type": "markdown",
   "id": "237e51be",
   "metadata": {},
   "source": [
    "### 1.1 Variable Naming Conventions <a id=\"1_1\"></a>\n",
    "\n",
    "When naming variables in Python, it's important to follow certain conventions to make your code more readable and maintainable.  \n",
    "Here are some key guidelines:\n"
   ]
  },
  {
   "cell_type": "markdown",
   "id": "4cb92191",
   "metadata": {},
   "source": [
    "#### 1.1.1 Use Descriptive Names <a id=\"1_1_1\"></a>\n",
    "- Choose variable names that clearly describe their purpose or the data they hold.\n",
    "- Avoid single-letter names except for loop indices or temporary variables."
   ]
  },
  {
   "cell_type": "code",
   "execution_count": null,
   "id": "14d1c513",
   "metadata": {},
   "outputs": [],
   "source": [
    "# Good\n",
    "student_name = \"Alice\"\n",
    "total_score = 95"
   ]
  },
  {
   "cell_type": "code",
   "execution_count": null,
   "id": "dbc6a7c7",
   "metadata": {},
   "outputs": [],
   "source": [
    "# Bad\n",
    "s = \"Alice\"\n",
    "t = 95"
   ]
  },
  {
   "cell_type": "markdown",
   "id": "186824ea",
   "metadata": {},
   "source": [
    "#### 1.1.2. Use Snake Case <a id=\"1_1_2\"></a>\n",
    "- Use lowercase letters with words separated by underscores (`_`).\n",
    "- This improves readability, especially for longer variable names.\n"
   ]
  },
  {
   "cell_type": "code",
   "execution_count": null,
   "id": "640d41df",
   "metadata": {},
   "outputs": [],
   "source": [
    "# Good\n",
    "first_name = \"Bob\"\n",
    "last_name = \"Smith\""
   ]
  },
  {
   "cell_type": "code",
   "execution_count": null,
   "id": "56130fb5",
   "metadata": {},
   "outputs": [],
   "source": [
    "# Bad\n",
    "lastname = \"Smith\"  # Hard to read without an underscore"
   ]
  },
  {
   "cell_type": "markdown",
   "id": "b70c064a",
   "metadata": {},
   "source": [
    "#### 1.1.3. Start with a Letter or Underscore <a id=\"1_1_3\"></a>\n",
    "- Variable names must start with a letter (a-z, A-Z) or an underscore (`_`).\n",
    "- They cannot start with a number."
   ]
  },
  {
   "cell_type": "code",
   "execution_count": null,
   "id": "e22490d6",
   "metadata": {},
   "outputs": [],
   "source": [
    "# Good\n",
    "age = 25\n",
    "_height = 5.9"
   ]
  },
  {
   "cell_type": "code",
   "execution_count": null,
   "id": "dd49608f",
   "metadata": {},
   "outputs": [],
   "source": [
    "# Bad\n",
    "2nd_place = \"Second\"  # Starts with a number"
   ]
  },
  {
   "cell_type": "markdown",
   "id": "312c376e",
   "metadata": {},
   "source": [
    "#### 1.1.4. Avoid Reserved Words <a id=\"1_1_4\"></a>\n",
    "- Do not use Python's reserved words (keywords) as variable names.\n",
    "- Reserved words have special meanings in Python and using them as variable names will cause errors."
   ]
  },
  {
   "cell_type": "code",
   "execution_count": null,
   "id": "3d92a069",
   "metadata": {},
   "outputs": [],
   "source": [
    "# Good\n",
    "total = 100\n",
    "value = 50"
   ]
  },
  {
   "cell_type": "code",
   "execution_count": null,
   "id": "5df416ec",
   "metadata": {},
   "outputs": [],
   "source": [
    "# Bad\n",
    "for = 100  # 'for' is a reserved keyword\n",
    "if = 50    # 'if' is a reserved keyword"
   ]
  },
  {
   "cell_type": "markdown",
   "id": "fc9f7ee5",
   "metadata": {},
   "source": [
    "#### 1.1.5. Use Meaningful Abbreviations <a id=\"1_1_5\"></a>\n",
    "- If you use abbreviations, make sure they are commonly understood and meaningful."
   ]
  },
  {
   "cell_type": "code",
   "execution_count": null,
   "id": "d1596ee4",
   "metadata": {},
   "outputs": [],
   "source": [
    "# Good\n",
    "num_students = 30  # 'num' is a common abbreviation for 'number'\n",
    "avg_score = 88.5   # 'avg' is a common abbreviation for 'average'"
   ]
  },
  {
   "cell_type": "code",
   "execution_count": null,
   "id": "c9c2f459",
   "metadata": {},
   "outputs": [],
   "source": [
    "# Bad\n",
    "n_st = 30  # Hard to understand\n",
    "a_s = 88.5 # Hard to understand"
   ]
  },
  {
   "cell_type": "markdown",
   "id": "83a2f91a",
   "metadata": {},
   "source": [
    "#### 1.1.6. Be Consistent <a id=\"1_1_6\"></a>\n",
    "- Follow a consistent naming convention throughout your code.\n",
    "- This makes your code easier to read and understand by others.\n",
    "  \n",
    "  \n",
    "By following these conventions, your code will be more readable and maintainable, making it easier for others (and yourself) to understand and modify in the future."
   ]
  },
  {
   "cell_type": "markdown",
   "id": "aa6a9147",
   "metadata": {},
   "source": [
    "---\n",
    "## 2. Data Types in Python <a id=\"2\"></a>\n",
    "Python supports various data types. Here are some of the most commonly used ones:"
   ]
  },
  {
   "cell_type": "markdown",
   "id": "243b2441",
   "metadata": {},
   "source": [
    "### 2.1. Integers (`int`) <a id=\"2_1\"></a>\n",
    "Whole numbers, e.g., `5`, `-3`, `42`."
   ]
  },
  {
   "cell_type": "code",
   "execution_count": null,
   "id": "0bb53eea",
   "metadata": {},
   "outputs": [],
   "source": [
    "# Integer\n",
    "x = 10\n",
    "print(type(x))"
   ]
  },
  {
   "cell_type": "markdown",
   "id": "c9c8c93d",
   "metadata": {},
   "source": [
    "### 2.2. Floats (`float`) <a id=\"2_2\"></a>\n",
    "Numbers with a decimal point, e.g., `3.14`, `-0.001`."
   ]
  },
  {
   "cell_type": "code",
   "execution_count": null,
   "id": "2d76d039",
   "metadata": {},
   "outputs": [],
   "source": [
    "# Float\n",
    "y = 3.14\n",
    "print(type(y))"
   ]
  },
  {
   "cell_type": "markdown",
   "id": "0e1758db",
   "metadata": {},
   "source": [
    "Python provides several built-in functions that can be used with numbers. Here are some common examples:\n",
    "\n",
    "- **`abs()`**: Returns the absolute value of a number\n",
    "\n",
    "- **`round()`**: Rounds a number to the nearest integer"
   ]
  },
  {
   "cell_type": "code",
   "execution_count": null,
   "id": "1792d4fc",
   "metadata": {},
   "outputs": [],
   "source": [
    "# absolute value\n",
    "print(abs(-10))"
   ]
  },
  {
   "cell_type": "code",
   "execution_count": null,
   "id": "cd91447b",
   "metadata": {},
   "outputs": [],
   "source": [
    "# round\n",
    "print(round(3.75))"
   ]
  },
  {
   "cell_type": "markdown",
   "id": "249e80a7",
   "metadata": {},
   "source": [
    "### 2.3. Booleans (`bool`) <a id=\"2_3\"></a>\n",
    "`True` or `False` values."
   ]
  },
  {
   "cell_type": "code",
   "execution_count": null,
   "id": "8dc0fe71",
   "metadata": {},
   "outputs": [],
   "source": [
    "# Boolean\n",
    "is_online = True\n",
    "print(type(is_online))"
   ]
  },
  {
   "cell_type": "markdown",
   "id": "03447e5e",
   "metadata": {},
   "source": [
    "### 2.4. Strings (`str`) <a id=\"2_4\"></a>\n",
    "\n",
    "Strings are sequences of characters enclosed within:\n",
    "- single quotes (`' '`), \n",
    "  \n",
    "- double quotes (`\" \"`), \n",
    "  \n",
    "- or triple quotes (`''' '''` or `\"\"\" \"\"\"`). \n",
    "  "
   ]
  },
  {
   "cell_type": "code",
   "execution_count": null,
   "id": "bc271531",
   "metadata": {},
   "outputs": [],
   "source": [
    "# String with double quotes\n",
    "s = \"Hello, World!\"\n",
    "print(s)"
   ]
  },
  {
   "cell_type": "code",
   "execution_count": null,
   "id": "b5e45356",
   "metadata": {},
   "outputs": [],
   "source": [
    "# String with single quotes\n",
    "s = 'Hello, World!'\n",
    "print(s)"
   ]
  },
  {
   "cell_type": "code",
   "execution_count": null,
   "id": "90818372",
   "metadata": {},
   "outputs": [],
   "source": [
    "# String with triple quotes\n",
    "s = \"\"\"Hello, \n",
    "World!\"\"\"\n",
    "print(s)"
   ]
  },
  {
   "cell_type": "code",
   "execution_count": null,
   "id": "618b8844",
   "metadata": {},
   "outputs": [],
   "source": [
    "# String with triple quotes\n",
    "s = '''Hello,\n",
    "World!'''\n",
    "print(s)"
   ]
  },
  {
   "cell_type": "markdown",
   "id": "8b5433e2",
   "metadata": {},
   "source": [
    "#### 2.4.1. String Built-in Functions and Methods <a id=\"2_4_1\"></a>\n",
    "Python provides several built-in functions that can be used with strings. Here is one of the most used built-in functions:\n",
    "- **`len()`**: Returns the length (number of characters) of a string.\n",
    "\n",
    "String methods are functions that perform specific operations on strings. Here are some commonly used string methods:\n",
    "\n",
    "- **`.upper()`**: Converts all characters in a string to uppercase.\n",
    "  \n",
    "- **`.lower()`**: Converts all characters in a string to lowercase.\n",
    "  \n",
    "- **`.capitalize()`**: Capitalizes the first character of a string.\n",
    "  \n",
    "- **`.title()`**: Capitalizes the first character of each word in a string.\n",
    "  \n",
    "- **`.strip()`**: Removes leading and trailing whitespace from a string.\n",
    "  \n",
    "- **`.replace(old, new)`**: Replaces occurrences of a substring within a string with a new substring.\n",
    "  \n",
    "- **`.find(sub)`**: Returns the index of the first occurrence of a substring within a string, or `-1` if the substring is not found.\n",
    "  \n",
    "- **`.split(separator)`**: Splits a string into a list of substrings based on a specified separator.\n",
    "\n",
    "Here are some examples:"
   ]
  },
  {
   "cell_type": "code",
   "execution_count": null,
   "id": "c8b464e9",
   "metadata": {},
   "outputs": [],
   "source": [
    "# String\n",
    "s = \" hello, WORLD! \"\n",
    "\n",
    "# get the length of the string\n",
    "print(len(s))"
   ]
  },
  {
   "cell_type": "code",
   "execution_count": null,
   "id": "ff70f598",
   "metadata": {},
   "outputs": [],
   "source": [
    "# Convert to uppercase\n",
    "print(s.upper())"
   ]
  },
  {
   "cell_type": "code",
   "execution_count": null,
   "id": "0924d413",
   "metadata": {},
   "outputs": [],
   "source": [
    "# Convert to lowercase\n",
    "print(s.lower())"
   ]
  },
  {
   "cell_type": "code",
   "execution_count": null,
   "id": "b0351bc5",
   "metadata": {},
   "outputs": [],
   "source": [
    "# Capitalize the first character\n",
    "s2 = \"hello, world!\"\n",
    "print(s2.capitalize())"
   ]
  },
  {
   "cell_type": "code",
   "execution_count": null,
   "id": "c5631229",
   "metadata": {},
   "outputs": [],
   "source": [
    "# Title case\n",
    "print(s.title())"
   ]
  },
  {
   "cell_type": "code",
   "execution_count": null,
   "id": "88933064",
   "metadata": {},
   "outputs": [],
   "source": [
    "# Strip leading and trailing whitespace\n",
    "print(s.strip())"
   ]
  },
  {
   "cell_type": "code",
   "execution_count": null,
   "id": "36d5bd82",
   "metadata": {},
   "outputs": [],
   "source": [
    "print(len(s.strip()))"
   ]
  },
  {
   "cell_type": "code",
   "execution_count": null,
   "id": "3534a18a",
   "metadata": {},
   "outputs": [],
   "source": [
    "# Replace substring\n",
    "print(s.replace(\"hello\", \"Hi\"))"
   ]
  },
  {
   "cell_type": "code",
   "execution_count": null,
   "id": "5754c5bd",
   "metadata": {},
   "outputs": [],
   "source": [
    "# Find substring\n",
    "print(s.find(\"WORLD\"))"
   ]
  },
  {
   "cell_type": "code",
   "execution_count": null,
   "id": "5a461a08",
   "metadata": {},
   "outputs": [],
   "source": [
    "# Split string into list\n",
    "print(s.split(\", \"))"
   ]
  },
  {
   "cell_type": "markdown",
   "id": "23b4a78d",
   "metadata": {},
   "source": [
    "#### 2.4.2. String Indexing <a id=\"2_4_2\"></a>\n",
    "\n",
    "Indexing allows you to access individual characters in a string using their position (index).  \n",
    "The index starts at `0` for the first character, `1` for the second character, and so on.  \n",
    "You can also use negative indices to access characters from the end of the string, with `-1` being the last character.\n",
    "  \n",
    "<div style=\"margin-top: 2rem;\">\n",
    "  <table style=\"text-align:center; margin: auto;\">\n",
    "    <tr>\n",
    "      <th>Character</th>\n",
    "      <th>H</th>\n",
    "      <th>e</th>\n",
    "      <th>l</th>\n",
    "      <th>l</th>\n",
    "      <th>o</th>\n",
    "      <th>,</th>\n",
    "      <th> </th>\n",
    "      <th>W</th>\n",
    "      <th>o</th>\n",
    "      <th>r</th>\n",
    "      <th>l</th>\n",
    "      <th>d</th>\n",
    "      <th>!</th>\n",
    "    </tr>\n",
    "    <tr>\n",
    "      <td>Index</td>\n",
    "      <td>0</td>\n",
    "      <td>1</td>\n",
    "      <td>2</td>\n",
    "      <td>3</td>\n",
    "      <td>4</td>\n",
    "      <td>5</td>\n",
    "      <td>6</td>\n",
    "      <td>7</td>\n",
    "      <td>8</td>\n",
    "      <td>9</td>\n",
    "      <td>10</td>\n",
    "      <td>11</td>\n",
    "      <td>12</td>\n",
    "    </tr>\n",
    "    <tr>\n",
    "      <td>Negative Index</td>\n",
    "      <td>-13</td>\n",
    "      <td>-12</td>\n",
    "      <td>-11</td>\n",
    "      <td>-10</td>\n",
    "      <td>-9</td>\n",
    "      <td>-8</td>\n",
    "      <td>-7</td>\n",
    "      <td>-6</td>\n",
    "      <td>-5</td>\n",
    "      <td>-4</td>\n",
    "      <td>-3</td>\n",
    "      <td>-2</td>\n",
    "      <td>-1</td>\n",
    "    </tr>\n",
    "  </table>\n",
    "</div>"
   ]
  },
  {
   "cell_type": "code",
   "execution_count": null,
   "id": "dae5286a",
   "metadata": {},
   "outputs": [],
   "source": [
    "# String indexing\n",
    "s = \"Hello, World!\"\n",
    "\n",
    "# Access first character\n",
    "print(s[0])"
   ]
  },
  {
   "cell_type": "code",
   "execution_count": null,
   "id": "800a1fd6",
   "metadata": {},
   "outputs": [],
   "source": [
    "# Access fifth character\n",
    "print(s[4])"
   ]
  },
  {
   "cell_type": "code",
   "execution_count": null,
   "id": "f106a167",
   "metadata": {},
   "outputs": [],
   "source": [
    "# Access last character\n",
    "print(s[-1])"
   ]
  },
  {
   "cell_type": "code",
   "execution_count": null,
   "id": "be9a74c8",
   "metadata": {},
   "outputs": [],
   "source": [
    "# Access second-to-last character\n",
    "print(s[-2])"
   ]
  },
  {
   "cell_type": "markdown",
   "id": "a0ab3ced",
   "metadata": {},
   "source": [
    "#### 2.4.3. String Slicing <a id=\"2_4_3\"></a>\n",
    "\n",
    "Slicing allows you to extract a substring from a string. You specify a range of indices to extract a portion of the string.  \n",
    "The syntax is `string[start:end]`, where `start` is the index of the first character to include, and `end` is the index of the first character to exclude.  \n",
    "You can also specify a step value as `string[start:end:step]`.\n",
    "  \n",
    "<div style=\"margin-top: 2rem;\">\n",
    "  <table style=\"text-align:center; margin: auto;\">\n",
    "    <tr>\n",
    "      <th>Character</th>\n",
    "      <th>H</th>\n",
    "      <th>e</th>\n",
    "      <th>l</th>\n",
    "      <th>l</th>\n",
    "      <th>o</th>\n",
    "      <th>,</th>\n",
    "      <th> </th>\n",
    "      <th>W</th>\n",
    "      <th>o</th>\n",
    "      <th>r</th>\n",
    "      <th>l</th>\n",
    "      <th>d</th>\n",
    "      <th>!</th>\n",
    "    </tr>\n",
    "    <tr>\n",
    "      <td>Index</td>\n",
    "      <td>0</td>\n",
    "      <td>1</td>\n",
    "      <td>2</td>\n",
    "      <td>3</td>\n",
    "      <td>4</td>\n",
    "      <td>5</td>\n",
    "      <td>6</td>\n",
    "      <td>7</td>\n",
    "      <td>8</td>\n",
    "      <td>9</td>\n",
    "      <td>10</td>\n",
    "      <td>11</td>\n",
    "      <td>12</td>\n",
    "    </tr>\n",
    "    <tr>\n",
    "      <td>Negative Index</td>\n",
    "      <td>-13</td>\n",
    "      <td>-12</td>\n",
    "      <td>-11</td>\n",
    "      <td>-10</td>\n",
    "      <td>-9</td>\n",
    "      <td>-8</td>\n",
    "      <td>-7</td>\n",
    "      <td>-6</td>\n",
    "      <td>-5</td>\n",
    "      <td>-4</td>\n",
    "      <td>-3</td>\n",
    "      <td>-2</td>\n",
    "      <td>-1</td>\n",
    "    </tr>\n",
    "  </table>\n",
    "</div>"
   ]
  },
  {
   "cell_type": "code",
   "execution_count": null,
   "id": "412feb80",
   "metadata": {},
   "outputs": [],
   "source": [
    "# String slicing\n",
    "s = \"Hello, World!\"\n",
    "\n",
    "# Slice from index 0 to 5 (excluding 5)\n",
    "print(s[0:5])  # \"Hello\""
   ]
  },
  {
   "cell_type": "code",
   "execution_count": null,
   "id": "fd315873",
   "metadata": {},
   "outputs": [],
   "source": [
    "# Slice from start to index 5 (excluding 5)\n",
    "print(s[:5])  # \"Hello\""
   ]
  },
  {
   "cell_type": "code",
   "execution_count": null,
   "id": "bff85387",
   "metadata": {},
   "outputs": [],
   "source": [
    "# Slice from index 7 to end\n",
    "print(s[7:])  # \"World!\""
   ]
  },
  {
   "cell_type": "code",
   "execution_count": null,
   "metadata": {},
   "outputs": [],
   "source": [
    "# Slice with step value\n",
    "print(s[0:12:2])  # \"Hlo ol\""
   ]
  },
  {
   "cell_type": "markdown",
   "id": "2568eda1",
   "metadata": {},
   "source": [
    "#### 2.4.4. String Formatting <a id=\"2_4_4\"></a>\n",
    "String formatting allows you to create formatted strings by embedding variables or expressions inside placeholders.  \n",
    "There are two main ways to format strings in Python: using the `.format()` method and f-strings (formatted string literals).\n",
    "\n",
    "**Using `.format()` Method**  \n",
    "\n",
    "The `.format()` method allows you to insert variables or expressions into a string by using curly braces `{}` as placeholders."
   ]
  },
  {
   "cell_type": "code",
   "execution_count": null,
   "id": "60ce9a92",
   "metadata": {},
   "outputs": [],
   "source": [
    "# Basic usage\n",
    "name = \"Alice\"\n",
    "age = 30"
   ]
  },
  {
   "cell_type": "code",
   "execution_count": null,
   "id": "f9b683a6",
   "metadata": {},
   "outputs": [],
   "source": [
    "print(\"Hello, name. You are age years old.\")"
   ]
  },
  {
   "cell_type": "code",
   "execution_count": null,
   "id": "df542a92",
   "metadata": {},
   "outputs": [],
   "source": [
    "formatted_string = \"Hello, {}. You are {} years old.\".format(name, age)\n",
    "print(formatted_string)  # Output: Hello, Alice. You are 30 years old."
   ]
  },
  {
   "cell_type": "code",
   "execution_count": null,
   "id": "f99ff9eb",
   "metadata": {},
   "outputs": [],
   "source": [
    "# Named placeholders\n",
    "formatted_string = \"Hello, {name}. You are {age} years old.\".format(name=name, age=age)\n",
    "print(formatted_string)  # Output: Hello, Alice. You are 30 years old."
   ]
  },
  {
   "cell_type": "code",
   "execution_count": null,
   "id": "86fc390e",
   "metadata": {},
   "outputs": [],
   "source": [
    "# Formatting float\n",
    "value = 123.456789\n",
    "formatted_string = \"Formatted float: {:.2f}\".format(value)\n",
    "print(formatted_string)  # Output: Formatted float: 123.46"
   ]
  },
  {
   "cell_type": "markdown",
   "id": "c790bf0f",
   "metadata": {},
   "source": [
    "**Using f-Strings**  \n",
    "\n",
    "f-Strings, introduced in Python 3.6, provide a more concise and readable way to format strings.  \n",
    "They use curly braces `{}` to embed expressions directly within string literals, prefixed by the letter `f`."
   ]
  },
  {
   "cell_type": "code",
   "execution_count": null,
   "id": "d7fcc356",
   "metadata": {},
   "outputs": [],
   "source": [
    "formatted_string = f\"Hello, {name}. You are {age} years old.\"\n",
    "print(formatted_string)  # Output: Hello, Alice. You are 30 years old."
   ]
  },
  {
   "cell_type": "code",
   "execution_count": null,
   "id": "25929fd5",
   "metadata": {},
   "outputs": [],
   "source": [
    "formatted_string = f\"Formatted float: {value:.2f}\"\n",
    "print(formatted_string)  # Output: Formatted float: 123.46"
   ]
  },
  {
   "cell_type": "markdown",
   "id": "fd65a8d1",
   "metadata": {},
   "source": [
    "---\n",
    "## 3. Type Conversion <a id=\"3\"></a>\n",
    "Sometimes, you may need to convert variables from one type to another. Python provides functions for this:\n",
    "- `int()`: Converts to integer\n",
    "- `float()`: Converts to float\n",
    "- `str()`: Converts to string\n",
    "- `bool()`: Converts to boolean\n",
    "\n",
    "Here are some examples of type conversion:"
   ]
  },
  {
   "cell_type": "code",
   "execution_count": null,
   "id": "eec7ba34",
   "metadata": {},
   "outputs": [],
   "source": [
    "# Convert float to int\n",
    "x = 4.7\n",
    "x_int = int(x)\n",
    "print(f'type of x is {type(x)}')\n",
    "print(f'type of x_int is {type(x_int)}')"
   ]
  },
  {
   "cell_type": "code",
   "execution_count": null,
   "id": "d273aedc",
   "metadata": {},
   "outputs": [],
   "source": [
    "# Convert int to float\n",
    "y = 5\n",
    "y_float = float(y)\n",
    "print(f'type of y is {type(y)}')\n",
    "print(f'type of y_float is {type(y_float)}')"
   ]
  },
  {
   "cell_type": "code",
   "execution_count": null,
   "id": "0eabdb44",
   "metadata": {},
   "outputs": [],
   "source": [
    "# Convert int to string\n",
    "z = 10\n",
    "z_str = str(z)\n",
    "print(f'type of z is {type(z)}')\n",
    "print(f'type of z_str is {type(z_str)}')"
   ]
  },
  {
   "cell_type": "code",
   "execution_count": null,
   "id": "31e41016",
   "metadata": {},
   "outputs": [],
   "source": [
    "# convert string to int\n",
    "s = \"10\"\n",
    "s_int = int(s)\n",
    "print(f'type of s is {type(s)}')\n",
    "print(f'type of s_int is {type(s_int)}')"
   ]
  },
  {
   "cell_type": "code",
   "execution_count": null,
   "id": "f1b095fe",
   "metadata": {},
   "outputs": [],
   "source": [
    "# Convert string to boolean\n",
    "w = 'True'\n",
    "w_bool = bool(w)\n",
    "print(f'type of w is {type(w)}')\n",
    "print(f'type of w_bool is {type(w_bool)}')"
   ]
  },
  {
   "cell_type": "markdown",
   "id": "41fe6127",
   "metadata": {},
   "source": [
    "---\n",
    "## 4. Operators and Expressions <a id=\"4\"></a>\n",
    "You can perform various operations with variables in Python."
   ]
  },
  {
   "cell_type": "markdown",
   "id": "fb82afe1",
   "metadata": {},
   "source": [
    "### 4.1. Arithmetic Operations: <a id=\"4_1\"></a>\n",
    "\n",
    "- Addition (`+`)\n",
    "\n",
    "- Subtraction (`-`)\n",
    "\n",
    "- Multiplication (`*`)\n",
    "\n",
    "- Division (`/`)\n",
    "\n",
    "- Exponentiation (`**`)\n",
    "\n",
    "- Floor Division (`//`): Divides and returns the largest integer less than or equal to the result\n",
    "\n",
    "- Modulus (`%`): Returns the remainder of the division"
   ]
  },
  {
   "cell_type": "code",
   "execution_count": null,
   "id": "0fddb54b",
   "metadata": {},
   "outputs": [],
   "source": [
    "# Arithmetic operations\n",
    "a = 10\n",
    "b = 3\n",
    "\n",
    "# Addition\n",
    "print(f'Addition: {a} + {b} = {a + b}')  # Output: 13\n",
    "\n",
    "# Subtraction\n",
    "print(f'Subtraction: {a} - {b} = {a - b}')  # Output: 7\n",
    "\n",
    "# Multiplication\n",
    "print(f'Multiplication: {a} * {b} = {a * b}')  # Output: 30\n",
    "\n",
    "# Exponentation\n",
    "print(f'Exponentation: {a} ** {b} = {a ** b}')  # Output: 1000\n",
    "\n",
    "# Division\n",
    "print(f'Division: {a} / {b} = {a / b}')  # Output: 3.3333333333333335\n",
    "\n",
    "# Floor Division\n",
    "print(f'Floor Division: {a} // {b} = {a // b}')  # Output: 3\n",
    "\n",
    "# Modulus\n",
    "print(f'Modulus: {a} % {b} = {a % b}')  # Output: 1"
   ]
  },
  {
   "cell_type": "markdown",
   "id": "22728dcf",
   "metadata": {},
   "source": [
    "### 4.2. String Operations: <a id=\"4_2\"></a>\n",
    "\n",
    "- Concatenation (`+`)\n",
    "\n",
    "- Repetition (`*`)\n"
   ]
  },
  {
   "cell_type": "code",
   "execution_count": null,
   "id": "fd697d87",
   "metadata": {},
   "outputs": [],
   "source": [
    "# String operations\n",
    "str1 = \"Hello\"\n",
    "str2 = \"World\"\n",
    "\n",
    "# Concatenation\n",
    "print(f'Concatenation: {str1} + {str2} = {str1 + ', ' + str2 + '!'}')  # Output: HelloWorld\n",
    "\n",
    "# Repetition\n",
    "print(f'Repetition: {str1} * 3 = {str1 * 3}')  # Output: HelloHelloHello"
   ]
  },
  {
   "cell_type": "markdown",
   "id": "91c2214b",
   "metadata": {},
   "source": [
    "### 4.3. Boolean Operations: <a id=\"4_3\"></a>\n",
    "\n",
    "- `and`\n",
    "\n",
    "- `or`\n",
    "\n",
    "- `not`\n"
   ]
  },
  {
   "cell_type": "code",
   "execution_count": null,
   "id": "127cdaef",
   "metadata": {},
   "outputs": [],
   "source": [
    "\n",
    "# Boolean operations\n",
    "x = True\n",
    "y = False\n",
    "\n",
    "# and\n",
    "print(f'{x} and {y} = {x and y}')  # Output: False\n",
    "\n",
    "# or\n",
    "print(f'{x} or {y} = {x or y}')  # Output: True\n",
    "\n",
    "# not\n",
    "print(f'not {x} = {not x}')  # Output: False"
   ]
  },
  {
   "cell_type": "markdown",
   "id": "75454179",
   "metadata": {},
   "source": [
    "---\n",
    "## 5. Practical Example <a id=\"5\"></a>\n",
    "Let's practice what we've learned with a simple example:\n",
    "\n",
    "- Calculate the area of a rectangle given the length and width and print a formatted text with the result."
   ]
  },
  {
   "cell_type": "code",
   "execution_count": null,
   "id": "7b8df77e",
   "metadata": {},
   "outputs": [],
   "source": [
    "length = 5.25\n",
    "width = 3.6\n",
    "area = length * width\n",
    "print(f'The area of the rectangle is {area:.2f} m^2')"
   ]
  },
  {
   "cell_type": "markdown",
   "id": "712b57b2",
   "metadata": {},
   "source": [
    "---\n",
    "## 6. Exercise <a id=\"6\"></a>\n",
    "Now it's your turn to practice! Try this simple exercise:\n",
    "\n",
    "- Write a program to convert Fahrenheit to Celsius and print a formatted text with the result.  \n",
    "- Formula:  \n",
    "<center>\n",
    "\n",
    "$Celsius = (Fahrenheit - 32) * 5/9$\n",
    "\n",
    "</center>"
   ]
  },
  {
   "cell_type": "code",
   "execution_count": null,
   "id": "ab17a279",
   "metadata": {},
   "outputs": [],
   "source": [
    "# your code here\n",
    "fahrenheit = 98.6\n",
    "\n",
    "# TODO: Convert Fahrenheit to Celsius\n",
    "\n",
    "\n",
    "# TODO: Print the result\n",
    "\n"
   ]
  },
  {
   "cell_type": "markdown",
   "id": "9469fe3d",
   "metadata": {},
   "source": [
    "<details>\n",
    "<summary>💡 Solution</summary>\n",
    "\n",
    "```python\n",
    "\n",
    "    fahrenheit = 98.6\n",
    "    celsius = (fahrenheit - 32) * 5/9\n",
    "    print(f\"{fahrenheit} Fahrenheit is {celsius:.2f} Celsius\")\n",
    "\n",
    "```\n",
    "\n",
    "</details>"
   ]
  },
  {
   "cell_type": "markdown",
   "id": "125f747b",
   "metadata": {},
   "source": [
    "---\n",
    "## 👨‍💻 Author\n",
    "\n",
    "**Samer Hany** | Full-stack Developer & Data Scientist\n",
    "\n",
    "<table style=\"border:none;\">\n",
    "  <tr>\n",
    "    <td style=\"padding: 5px 0; border:none;\">- Website:</td>\n",
    "    <td style=\"padding: 5px; border:none;\"><a href=\"https://samerhany.com\">samerhany.com</a></td>\n",
    "  </tr>\n",
    "  <tr>\n",
    "    <td style=\"padding: 5px 0; border:none;\">- LinkedIn:</td>\n",
    "    <td style=\"padding: 5px; border:none;\"><a href=\"https://linkedin.com/in/samer-hany\">in/samer-hany</a></td>\n",
    "  </tr>\n",
    "  <tr>\n",
    "    <td style=\"padding: 5px 0; border:none;\">- YouTube:</td>\n",
    "    <td style=\"padding: 5px; border:none;\"><a href=\"https://www.youtube.com/@SamerHany\">c/SamerHany</a></td>\n",
    "  </tr>\n",
    "  <tr>\n",
    "    <td style=\"padding: 5px 0; border:none;\">- GitHub:</td>\n",
    "    <td style=\"padding: 5px; border:none;\"><a href=\"https://github.com/SamerHany\">/SamerHany</a></td>\n",
    "  </tr>\n",
    "</table>"
   ]
  }
 ],
 "metadata": {
  "kernelspec": {
   "display_name": "Python 3",
   "language": "python",
   "name": "python3"
  },
  "language_info": {
   "codemirror_mode": {
    "name": "ipython",
    "version": 3
   },
   "file_extension": ".py",
   "mimetype": "text/x-python",
   "name": "python",
   "nbconvert_exporter": "python",
   "pygments_lexer": "ipython3",
   "version": "3.12.0"
  }
 },
 "nbformat": 4,
 "nbformat_minor": 5
}
