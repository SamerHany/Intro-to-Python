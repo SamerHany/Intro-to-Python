{
 "cells": [
  {
   "cell_type": "markdown",
   "metadata": {},
   "source": [
    "# Intro to Python: 5. Functions\n",
    "Welcome to the fifth tutorial in our \"Intro to Python\" series! In this notebook, we'll cover the essential concepts of functions in Python.  \n",
    "By the end of this tutorial, you'll understand how to define and use functions, pass parameters, and return values.\n",
    "\n",
    "## 📚 Table of Contents\n",
    "\n",
    "1. [Introduction to Functions](#0)\n",
    "\n",
    "2. [Defining and Calling Functions](#1)\n",
    "\n",
    "3. [Function Parameters](#2)\n",
    "   1. [Positional Arguments](#2_1)\n",
    "   2. [Keyword Arguments](#2_2)\n",
    "   3. [Default Parameters](#2_3)\n",
    "\n",
    "4. [Return Values](#3)\n",
    "\n",
    "5. [Scope and Lifetime of Variables](#4)\n",
    "\n",
    "6. [Lambda Functions](#5)\n",
    "\n",
    "7. [Practical Examples](#6)\n",
    "\n",
    "8. [Exercise](#7)\n"
   ]
  },
  {
   "cell_type": "markdown",
   "metadata": {},
   "source": [
    "\n",
    "---\n",
    "\n",
    "## 1. Introduction to Functions <a id=\"0\"></a>\n",
    "Functions are reusable blocks of code that perform a specific task. They help in organizing code into smaller, manageable parts and avoid repetition. In Python, functions are defined using the `def` keyword.\n",
    "\n",
    "### Why Functions Matter\n",
    "Functions allow you to:\n",
    "- Break down complex problems into smaller, manageable tasks.\n",
    "- Reuse code without rewriting it.\n",
    "- Make your code more organized and easier to read.\n"
   ]
  },
  {
   "cell_type": "markdown",
   "metadata": {},
   "source": [
    "\n",
    "---\n",
    "\n",
    "## 2. Defining and Calling Functions <a id=\"1\"></a>\n",
    "A function is defined using the `def` keyword, followed by the function name, parentheses `()`, and a colon `:`. The code block within the function is indented.\n"
   ]
  },
  {
   "cell_type": "code",
   "execution_count": null,
   "metadata": {},
   "outputs": [],
   "source": [
    "# Defining a simple function\n",
    "def greet():\n",
    "    print(\"Hello, World!\")\n"
   ]
  },
  {
   "cell_type": "code",
   "execution_count": null,
   "metadata": {},
   "outputs": [],
   "source": [
    "# Calling the function\n",
    "greet()  # Output: Hello, World!"
   ]
  },
  {
   "cell_type": "markdown",
   "metadata": {},
   "source": [
    "\n",
    "---\n",
    "\n",
    "## 3. Function Parameters <a id=\"2\"></a>\n",
    "Functions can accept input values, known as parameters, to perform their tasks.\n"
   ]
  },
  {
   "cell_type": "markdown",
   "metadata": {},
   "source": [
    "\n",
    "### 3.1 Positional Arguments <a id=\"2_1\"></a>\n",
    "Positional arguments are the most common way to pass values to a function. The order of arguments passed matters.\n"
   ]
  },
  {
   "cell_type": "code",
   "execution_count": null,
   "metadata": {},
   "outputs": [],
   "source": [
    "# Function with positional arguments\n",
    "def greet(name, greeting):\n",
    "    print(f\"{greeting}, {name}!\")"
   ]
  },
  {
   "cell_type": "code",
   "execution_count": null,
   "metadata": {},
   "outputs": [],
   "source": [
    "greet(\"Alice\", \"Hello\")  # Output: Hello, Alice!\n",
    "greet(\"Samer\", \"Hi\")  # Output: Hi, Samer!"
   ]
  },
  {
   "cell_type": "markdown",
   "metadata": {},
   "source": [
    "\n",
    "### 3.2 Default Parameters <a id=\"2_2\"></a>\n",
    "Default parameters allow you to specify default values for parameters. If no value is passed, the default is used.\n"
   ]
  },
  {
   "cell_type": "code",
   "execution_count": null,
   "metadata": {},
   "outputs": [],
   "source": [
    "# Function with default parameters\n",
    "def greet(name, greeting=\"Hello\"):\n",
    "    print(f\"{greeting}, {name}!\")"
   ]
  },
  {
   "cell_type": "code",
   "execution_count": null,
   "metadata": {},
   "outputs": [],
   "source": [
    "greet(\"Bob\")  # Output: Hello, Bob!\n",
    "greet(\"Alice\", \"Hi\")  # Output: Hi, Alice!"
   ]
  },
  {
   "cell_type": "markdown",
   "metadata": {},
   "source": [
    "\n",
    "### 3.3 Keyword Arguments <a id=\"2_3\"></a>\n",
    "Keyword arguments allow you to pass values by explicitly specifying the parameter name, making the code more readable.\n"
   ]
  },
  {
   "cell_type": "code",
   "execution_count": null,
   "metadata": {},
   "outputs": [],
   "source": [
    "# Function with keyword arguments\n",
    "greet(greeting=\"Hi\", name=\"Alice\")  # Output: Hi, Alice!\n",
    "greet(name=\"Alice\")  # Output: Hello, Alice!"
   ]
  },
  {
   "cell_type": "markdown",
   "metadata": {},
   "source": [
    "\n",
    "---\n",
    "\n",
    "## 4. Return Values <a id=\"3\"></a>\n",
    "Functions can return values using the `return` statement. This allows the function to produce a result that can be used elsewhere in the code.\n"
   ]
  },
  {
   "cell_type": "code",
   "execution_count": null,
   "metadata": {},
   "outputs": [],
   "source": [
    "# Function with a return value\n",
    "def add(a, b):\n",
    "    return a + b\n",
    "\n",
    "result = add(10, 5)\n",
    "print(f\"The sum is {result}\") # Output: The sum is 15"
   ]
  },
  {
   "cell_type": "markdown",
   "metadata": {},
   "source": [
    "In Python, you can return multiple values from a function as a `tuple`."
   ]
  },
  {
   "cell_type": "code",
   "execution_count": null,
   "metadata": {},
   "outputs": [],
   "source": [
    "# Function to return the minimum and maximum of a list of numbers\n",
    "def find_min_max(numbers):\n",
    "    minimum = min(numbers)\n",
    "    maximum = max(numbers)\n",
    "    return minimum, maximum\n",
    "\n",
    "# Example usage\n",
    "numbers_list = [10, 20, 5, 40, 30]\n",
    "min_value, max_value = find_min_max(numbers_list)\n",
    "\n",
    "print(f\"The minimum value is {min_value}\")  # Output: The minimum value is 5\n",
    "print(f\"The maximum value is {max_value}\")  # Output: The maximum value is 40"
   ]
  },
  {
   "cell_type": "markdown",
   "metadata": {},
   "source": [
    "\n",
    "---\n",
    "\n",
    "## 5. Scope and Lifetime of Variables <a id=\"4\"></a>\n",
    "The scope of a variable determines where it can be accessed within the code. Variables defined inside a function are local to that function and cannot be accessed outside of it. On the other hand, variables defined outside of functions have a global scope and can be accessed anywhere in the code, including inside functions.\n",
    "\n",
    "### Local Variables\n",
    "Variables that are defined inside a function are called local variables. They are only accessible within that function and do not exist outside of it.\n"
   ]
  },
  {
   "cell_type": "code",
   "execution_count": null,
   "metadata": {},
   "outputs": [],
   "source": [
    "# Example of local scope\n",
    "def my_function():\n",
    "    local_var = \"I'm local!\"\n",
    "    print(local_var)\n",
    "\n",
    "my_function()  # Output: I'm local!"
   ]
  },
  {
   "cell_type": "code",
   "execution_count": null,
   "metadata": {},
   "outputs": [],
   "source": [
    "print(local_var)  # This will raise an error since local_var is not accessible outside the function"
   ]
  },
  {
   "cell_type": "markdown",
   "metadata": {},
   "source": [
    "\n",
    "### Global Variables\n",
    "Variables that are defined outside of any function are called global variables. They can be accessed from anywhere in the code, including within functions.\n"
   ]
  },
  {
   "cell_type": "code",
   "execution_count": null,
   "metadata": {},
   "outputs": [],
   "source": [
    "# Example of global scope\n",
    "global_var = \"I'm global!\"\n",
    "\n",
    "def my_function():\n",
    "    print(global_var)\n",
    "\n",
    "my_function()  # Output: I'm global!"
   ]
  },
  {
   "cell_type": "code",
   "execution_count": null,
   "metadata": {},
   "outputs": [],
   "source": [
    "print(global_var)  # Output: I'm global!"
   ]
  },
  {
   "cell_type": "markdown",
   "metadata": {},
   "source": [
    "\n",
    "### Local and Global Variables with the Same Name\n",
    "If a local and a global variable have the same name, the local variable takes precedence inside the function. The global variable remains unchanged outside the function.\n",
    "\n",
    "#### Explanation\n",
    "In the example above:\n",
    "- Inside the `print_name` function, the local variable `name` is used, which has the value `\"Local Name\"`.\n",
    "- Outside the function, the global variable `name` remains unchanged with the value `\"Global Name\"`.\n"
   ]
  },
  {
   "cell_type": "code",
   "execution_count": null,
   "metadata": {},
   "outputs": [],
   "source": [
    "# Example of local and global variables with the same name\n",
    "name = \"Global Name\"\n",
    "\n",
    "def print_name():\n",
    "    name = \"Local Name\"  # This is a local variable\n",
    "    print(name)  # Output: Local Name\n",
    "\n",
    "print_name()  # Calls the function, uses the local variable"
   ]
  },
  {
   "cell_type": "code",
   "execution_count": null,
   "metadata": {},
   "outputs": [],
   "source": [
    "print(name)  # Output: Global Name (the global variable is unaffected)"
   ]
  },
  {
   "cell_type": "markdown",
   "metadata": {},
   "source": [
    "\n",
    "### Modifying Global Variables Inside a Function\n",
    "If you need to modify a global variable inside a function, you must declare it as `global` within the function. Otherwise, Python will treat it as a local variable and you'll end up with a different variable.\n"
   ]
  },
  {
   "cell_type": "code",
   "execution_count": null,
   "metadata": {},
   "outputs": [],
   "source": [
    "# Example of modifying a global variable\n",
    "glob_var = \"I'm global!\"\n",
    "\n",
    "print(glob_var)  # Output: I'm global!\n",
    "\n",
    "def modify_global():\n",
    "    global glob_var  # Declare glob_var as global to modify it inside the function\n",
    "    glob_var = \"I've been modified inside a function!\"\n",
    "\n",
    "modify_global()\n",
    "print(glob_var)  # Output: I've been modified inside a function!"
   ]
  },
  {
   "cell_type": "markdown",
   "metadata": {},
   "source": [
    "\n",
    "---\n",
    "\n",
    "## 6. Lambda Functions <a id=\"6\"></a>\n",
    "Lambda functions, also known as anonymous functions, are small, unnamed functions defined using the `lambda` keyword.  \n",
    "They are useful when you need a simple function for a short period of time and don't want to define it using the standard `def` keyword.\n",
    "\n",
    "### Syntax of Lambda Functions\n",
    "The syntax for a lambda function is:\n",
    "\n",
    "<div style=\"margin:2rem auto; padding:2rem 2rem 1rem 2rem; width:fit-content; border-radius: 10px; background-color: #121212; font-size: 1.5rem;\">\n",
    "\n",
    "```python\n",
    "lambda arguments: expression\n",
    "```\n",
    "\n",
    "</div>\n",
    "\n",
    "- **arguments**: A comma-separated list of input parameters.\n",
    "- **expression**: A single expression that is evaluated and returned.\n",
    "\n",
    "### When to Use Lambda Functions\n",
    "Lambda functions are often used for short, simple operations where defining a full function would be unnecessary. Common use cases include:\n",
    "- Sorting a list based on a specific attribute.\n",
    "- Applying a simple transformation to each element in a list using `map()` or `filter()`.\n",
    "\n",
    "### Example: Using a Lambda Function in Sorting\n",
    "Let's say you have a list of tuples, where each tuple contains a person's name and age. You can use a lambda function to sort the list by age.\n",
    "\n"
   ]
  },
  {
   "cell_type": "code",
   "execution_count": null,
   "metadata": {},
   "outputs": [],
   "source": [
    "# List of tuples (name, age)\n",
    "people = [\n",
    "    (\"Alice\", 30),  # 30\n",
    "    (\"Bob\", 25),    # 25\n",
    "    (\"Charlie\", 35) # 35\n",
    "]\n",
    "\n",
    "# traditional method\n",
    "def get_age(person):\n",
    "    return person[1]\n",
    "\n",
    "# Sort the list by age using the get_age function\n",
    "people_sorted_by_age = sorted(people, key=get_age)\n",
    "\n",
    "print(people_sorted_by_age)  # Output: [('Bob', 25), ('Alice', 30), ('Charlie', 35)]\n",
    "print(people)  # Output: [('Alice', 30), ('Bob', 25), ('Charlie', 35)]\n"
   ]
  },
  {
   "cell_type": "code",
   "execution_count": null,
   "metadata": {},
   "outputs": [],
   "source": [
    "# Sort the list by age using a lambda function\n",
    "people_sorted_by_age = sorted(people, key=lambda person: person[1])\n",
    "\n",
    "print(people_sorted_by_age)  # Output: [('Bob', 25), ('Alice', 30), ('Charlie', 35)]"
   ]
  },
  {
   "cell_type": "markdown",
   "metadata": {},
   "source": [
    "\n",
    "### Limitations of Lambda Functions\n",
    "- **Single Expression**: Lambda functions are limited to a single expression. For more complex logic, it's better to use a regular function defined with `def`.\n",
    "- **Readability**: While lambda functions can make code more concise, they can also make it less readable if overused, especially for complex operations.\n",
    "\n",
    "### When Not to Use Lambda Functions\n",
    "- **Complex Operations**: If the operation you want to perform is complex, defining a regular function with `def` is usually better for readability and maintainability.\n",
    "- **Multiple Lines of Code**: Lambda functions are not suitable for operations that require multiple lines of code or complex logic.\n"
   ]
  },
  {
   "cell_type": "markdown",
   "metadata": {},
   "source": [
    "\n",
    "---\n",
    "\n",
    "## 7. Practical Examples <a id=\"6\"></a>\n",
    "Let’s apply what we've learned with some practical examples:\n",
    "\n",
    "### Example 1: Calculating the Area of a Circle\n"
   ]
  },
  {
   "cell_type": "code",
   "execution_count": null,
   "metadata": {},
   "outputs": [],
   "source": [
    "def calculate_area(r):\n",
    "    pi = 3.14159\n",
    "    return pi * (r ** 2)\n",
    "\n",
    "area = calculate_area(5)\n",
    "print(f\"The area of the circle is {area:.2f} m^2\")  # Output: The area of the circle is 78.54"
   ]
  },
  {
   "cell_type": "markdown",
   "metadata": {},
   "source": [
    "\n",
    "### Example 2: Checking for Even or Odd\n"
   ]
  },
  {
   "cell_type": "code",
   "execution_count": null,
   "metadata": {},
   "outputs": [],
   "source": [
    "def check_even_odd(number):\n",
    "    if number % 2 == 0:\n",
    "        return \"Even\"\n",
    "    else:\n",
    "        return \"Odd\""
   ]
  },
  {
   "cell_type": "code",
   "execution_count": null,
   "metadata": {},
   "outputs": [],
   "source": [
    "num = 10\n",
    "result = check_even_odd(num)\n",
    "print(f\"The number {num} is {result}\")  # Output: The number 10 is Even"
   ]
  },
  {
   "cell_type": "markdown",
   "metadata": {},
   "source": [
    "\n",
    "## 8. Exercise <a id=\"7\"></a>\n",
    "Now it’s your turn to practice! Try this exercise:\n",
    "\n",
    "**Email Validator**: Write a function that checks whether a given email address is valid. The function should return `True` if the email is valid and `False` otherwise. A valid email address must meet the following criteria:\n",
    "  1. It contains exactly one \"@\" symbol.\n",
    "  2. The domain name (part after the \"@\") contains at least one \".\" symbol.\n",
    "  3. The part before the \"@\" symbol (local part) must have at least one character.\n",
    "  4. All parts in the domain name (separated by \".\") must each have at least one character.\n",
    "\n",
    "### Requirements:\n",
    "- The function should take a single string as an argument.\n",
    "- The function should return `True` if the email is valid according to the criteria, and `False` otherwise.\n",
    "- The function should handle edge cases such as missing \"@\" or \".\", multiple \"@\" symbols, and invalid formats.\n"
   ]
  },
  {
   "cell_type": "code",
   "execution_count": null,
   "metadata": {},
   "outputs": [],
   "source": [
    "# your code here\n",
    "def is_valid_email(email):\n",
    "    # TODO\n",
    "    pass"
   ]
  },
  {
   "cell_type": "code",
   "execution_count": null,
   "metadata": {},
   "outputs": [],
   "source": [
    "# test your function\n",
    "print(is_valid_email(\"test@example.com\"))  # Output: True\n",
    "print(is_valid_email(\"user@cu.edu.eg\"))    # Output: True\n",
    "print(is_valid_email(\"invalid-email\"))     # Output: False (violates rule 1: @ is required)\n",
    "print(is_valid_email(\"no@domain@com\"))     # Output: False (violates rule 2: only one @ is allowed)\n",
    "print(is_valid_email(\"@domain.com\"))       # Output: False (violates rule 3: local part is required)\n",
    "print(is_valid_email(\"user@domain.\"))      # Output: False (violates rule 4: domain parts should include at least one character each.)\n",
    "print(is_valid_email(\"user@.com\"))         # Output: False (violates rule 4: domain parts should include at least one character each.)\n",
    "print(is_valid_email(\"user@domain..com\"))  # Output: False (violates rule 4: domain parts should include at least one character each.)"
   ]
  },
  {
   "cell_type": "markdown",
   "metadata": {},
   "source": [
    "\n",
    "<details>\n",
    "<summary>💡 Solution</summary>\n",
    "\n",
    "```python\n",
    "# Solution: Email Validator\n",
    "def is_valid_email(email):\n",
    "    # Check if there is exactly one \"@\" symbol\n",
    "    if email.count(\"@\") != 1:\n",
    "        return False\n",
    "\n",
    "    # Split the email into local part and domain part\n",
    "    local_part, domain_part = email.split(\"@\")\n",
    "\n",
    "    # Check if the local part is non-empty\n",
    "    if len(local_part) == 0:\n",
    "        return False\n",
    "\n",
    "    # Check if the domain part contains at least one \".\" and split it\n",
    "    if \".\" not in domain_part:\n",
    "        return False\n",
    "\n",
    "    # Check if the all parts of the domain are non-empty\n",
    "    domain_levels = domain_part.split(\".\")\n",
    "    for level in domain_levels:\n",
    "        if len(level) == 0:\n",
    "            return False\n",
    "\n",
    "    # if no rules are violated, return TRUE\n",
    "    return True\n",
    "\n",
    "```\n",
    "\n",
    "</details>"
   ]
  },
  {
   "cell_type": "markdown",
   "metadata": {},
   "source": [
    "\n",
    "---\n",
    "\n",
    "## 👨‍💻 Author\n",
    "\n",
    "**Samer Hany** | Full-stack Developer & Data Scientist\n",
    "\n",
    "<table style=\"border:none;\">\n",
    "  <tr>\n",
    "    <td style=\"padding: 5px 0; border:none;\">- Website:</td>\n",
    "    <td style=\"padding: 5px; border:none;\"><a href=\"https://samerhany.com\">samerhany.com</a></td>\n",
    "  </tr>\n",
    "  <tr>\n",
    "    <td style=\"padding: 5px 0; border:none;\">- LinkedIn:</td>\n",
    "    <td style=\"padding: 5px; border:none;\"><a href=\"https://linkedin.com/in/samer-hany\">in/samer-hany</a></td>\n",
    "  </tr>\n",
    "  <tr>\n",
    "    <td style=\"padding: 5px 0; border:none;\">- YouTube:</td>\n",
    "    <td style=\"padding: 5px; border:none;\"><a href=\"https://www.youtube.com/@SamerHany\">c/SamerHany</a></td>\n",
    "  </tr>\n",
    "  <tr>\n",
    "    <td style=\"padding: 5px 0; border:none;\">- GitHub:</td>\n",
    "    <td style=\"padding: 5px; border:none;\"><a href=\"https://github.com/SamerHany\">/SamerHany</a></td>\n",
    "  </tr>\n",
    "  <tr>\n",
    "    <td style=\"padding: 5px 0; border:none;\">- Discord:</td>\n",
    "    <td style=\"padding: 5px; border:none;\"><a href=\"https://discord.gg/7ZzmGWQR\">Join our Community</a></td>\n",
    "  </tr>\n",
    "</table>"
   ]
  }
 ],
 "metadata": {
  "kernelspec": {
   "display_name": "Python 3",
   "language": "python",
   "name": "python3"
  },
  "language_info": {
   "codemirror_mode": {
    "name": "ipython",
    "version": 3
   },
   "file_extension": ".py",
   "mimetype": "text/x-python",
   "name": "python",
   "nbconvert_exporter": "python",
   "pygments_lexer": "ipython3",
   "version": "3.12.0"
  }
 },
 "nbformat": 4,
 "nbformat_minor": 2
}
