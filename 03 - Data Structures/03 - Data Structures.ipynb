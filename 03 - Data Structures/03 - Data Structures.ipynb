{
 "cells": [
  {
   "cell_type": "markdown",
   "metadata": {},
   "source": [
    "# Intro to Python: 3. Data Structures\n",
    "Welcome to the third tutorial in our \"Intro to Python\" series! In this notebook, we'll cover the basics of data structures in Python.  \n",
    "By the end of this tutorial, you'll understand what data structures are, the different types available in Python, and how to work with them."
   ]
  },
  {
   "cell_type": "markdown",
   "metadata": {},
   "source": [
    "## 📚 Table of Contents\n",
    "\n",
    "1. [Introduction to Data Structures](#0)\n",
    "2. [Lists](#1)\n",
    "   1. [Creating Lists](#1_1)\n",
    "   2. [Accessing and Modifying Lists](#1_2)\n",
    "   3. [Common List Methods](#1_3)\n",
    "\n",
    "3. [Tuples](#2)\n",
    "   1. [Creating Tuples](#2_1)\n",
    "   2. [Accessing and Modifying Tuples](#2_2)\n",
    "\n",
    "4. [Sets](#3)\n",
    "   1. [Creating Sets](#3_1)\n",
    "   2. [Common Set Operations](#3_2)\n",
    "\n",
    "5. [Dictionaries](#4)\n",
    "   1. [Creating Dictionaries](#4_1)\n",
    "   2. [Accessing and Modifying Dictionaries](#4_2)\n",
    "   3. [Common Dictionary Methods](#4_3)\n",
    "\n",
    "6. [Comparison Between Primitive and Reference Data Types](#6)\n",
    "\n",
    "6. [Practical Examples](#7)\n",
    "\n",
    "7. [Exercise](#8)"
   ]
  },
  {
   "cell_type": "markdown",
   "metadata": {},
   "source": [
    "\n",
    "---\n",
    "## 1. Introduction to Data Structures <a id=\"0\"></a>\n",
    "In the previous video, we learned about **primitive data types** such as integers, floats, strings, and booleans. These data types are the building blocks for more complex data manipulation.\n",
    "\n",
    "However, when working with multiple related values, using primitive data types alone can be limiting and inefficient.\n",
    "\n",
    "### Primitive Data Types Recap:\n",
    "\n",
    "- **Integers (`int`)**: Whole numbers, e.g., `5`, `-3`.\n",
    "\n",
    "- **Floats (`float`)**: Numbers with a decimal point, e.g., `3.14`, `-0.001`.\n",
    "\n",
    "- **Strings (`str`)**: Sequences of characters, e.g., `\"Hello\"`, `'World'`.\n",
    "\n",
    "- **Booleans (`bool`)**: Logical values, either `True` or `False`.\n",
    "\n",
    "### Why We Need Data Structures:\n",
    "While primitive data types allow us to store single values, **data structures** enable us to store and manage *collections* of data in an organized and efficient manner.\n",
    "\n",
    "Data structures can store multiple values, even of different data types, and provide powerful methods for accessing and manipulating these collections.\n",
    "\n",
    "### Types of Data Structures We'll Cover:\n",
    "\n",
    "1. **Lists**: Ordered collections of items, which are mutable (can be changed).\n",
    "\n",
    "2. **Tuples**: Ordered collections of items, which are immutable (cannot be changed).\n",
    "\n",
    "3. **Sets**: Unordered collections of unique items.\n",
    "\n",
    "4. **Dictionaries**: Unordered collections of key-value pairs.\n",
    "\n",
    "These data structures will allow us to work with complex data more efficiently and effectively."
   ]
  },
  {
   "cell_type": "markdown",
   "metadata": {},
   "source": [
    "\n",
    "---\n",
    "\n",
    "## 2. Lists <a id=\"1\"></a>\n",
    "A list in Python is an ordered collection of items which can be of any type. Lists are mutable, meaning their elements can be changed after they are created.  \n",
    "Let's see how to create and work with lists."
   ]
  },
  {
   "cell_type": "markdown",
   "metadata": {},
   "source": [
    "\n",
    "### 2.1 Creating Lists <a id=\"1_1\"></a>\n"
   ]
  },
  {
   "cell_type": "code",
   "execution_count": null,
   "metadata": {},
   "outputs": [],
   "source": [
    "# Creating a list\n",
    "fruits = [\"apple\", \"banana\", \"cherry\"]\n",
    "print(fruits)"
   ]
  },
  {
   "cell_type": "code",
   "execution_count": null,
   "metadata": {},
   "outputs": [],
   "source": [
    "# type of fruits\n",
    "print(type(fruits))"
   ]
  },
  {
   "cell_type": "markdown",
   "metadata": {},
   "source": [
    "### 2.2 Accessing and Modifying Lists <a id=\"1_2\"></a>"
   ]
  },
  {
   "cell_type": "code",
   "execution_count": null,
   "metadata": {},
   "outputs": [],
   "source": [
    "# Getting the length of a list\n",
    "print(len(fruits))"
   ]
  },
  {
   "cell_type": "code",
   "execution_count": null,
   "metadata": {},
   "outputs": [],
   "source": [
    "# Accessing elements\n",
    "print(fruits[0])  # Output: apple"
   ]
  },
  {
   "cell_type": "code",
   "execution_count": null,
   "metadata": {},
   "outputs": [],
   "source": [
    "# Negative indexing\n",
    "print(fruits[-1])  # Output: cherry"
   ]
  },
  {
   "cell_type": "code",
   "execution_count": null,
   "metadata": {},
   "outputs": [],
   "source": [
    "# Slicing\n",
    "print(fruits[0:2])  # Output: ['apple', 'banana']"
   ]
  },
  {
   "cell_type": "code",
   "execution_count": null,
   "metadata": {},
   "outputs": [],
   "source": [
    "# Modifying elements\n",
    "fruits[1] = \"blueberry\"\n",
    "print(fruits)  # Output: ['apple', 'blueberry', 'cherry']\n"
   ]
  },
  {
   "cell_type": "markdown",
   "metadata": {},
   "source": [
    "### 2.3 Common List Methods <a id=\"1_3\"></a>\n",
    "\n",
    "List methods are functions that perform specific operations on lists. Here are some commonly used list methods:\n",
    "\n",
    "- `append(item)`: Adds an item to the end of the list.\n",
    "\n",
    "- `remove(item)`: Removes the first occurrence of the specified item from the list.\n",
    "\n",
    "- `insert(index, item)`: Inserts an item at the specified index.\n",
    "\n",
    "- `pop(index)`: Removes and returns the item at the specified index. If no index is specified, \n",
    "it removes and returns the last item.\n",
    "- `sort()`: Sorts the items of the list in place (ascending order by default).\n",
    "\n",
    "- `reverse()`: Reverses the order of the items in the list.\n",
    "\n",
    "- `index(item)`: Returns the index of the first occurrence of the specified item.\n",
    "\n",
    "- `count(item)`: Returns the number of occurrences of the specified item in the list.\n",
    "\n",
    "- `extend(iterable)`: Extends the list by appending all the items from the specified iterable \n",
    "(such as another list)."
   ]
  },
  {
   "cell_type": "code",
   "execution_count": null,
   "metadata": {},
   "outputs": [],
   "source": [
    "# Adding elements\n",
    "fruits.append(\"date\")\n",
    "print(fruits)  # Output: ['apple', 'blueberry', 'cherry', 'date']"
   ]
  },
  {
   "cell_type": "code",
   "execution_count": null,
   "metadata": {},
   "outputs": [],
   "source": [
    "# Removing elements\n",
    "fruits.remove(\"blueberry\")\n",
    "print(fruits)  # Output: ['apple', 'cherry', 'date']"
   ]
  },
  {
   "cell_type": "code",
   "execution_count": null,
   "metadata": {},
   "outputs": [],
   "source": [
    "# Sorting a list\n",
    "fruits.sort(reverse=True)\n",
    "print(fruits)  # Output: ['apple', 'cherry', 'date']\n"
   ]
  },
  {
   "cell_type": "code",
   "execution_count": null,
   "metadata": {},
   "outputs": [],
   "source": [
    "# Reversing a list\n",
    "fruits.reverse()\n",
    "print(fruits)  # Output: ['date', 'cherry', 'apple']"
   ]
  },
  {
   "cell_type": "code",
   "execution_count": null,
   "metadata": {},
   "outputs": [],
   "source": [
    "# Extending a list\n",
    "fruits2 = [\"elderberry\", \"fig\"]\n",
    "fruits.extend(fruits2)\n",
    "print(fruits)  # Output: ['date', 'cherry', 'apple', 'elderberry', 'fig']"
   ]
  },
  {
   "cell_type": "markdown",
   "metadata": {},
   "source": [
    "---\n",
    "\n",
    "## 3. Tuples <a id=\"2\"></a>\n",
    "A tuple in Python is an ordered collection of items similar to a list. However, tuples are immutable, meaning once they are created, their elements cannot be changed."
   ]
  },
  {
   "cell_type": "markdown",
   "metadata": {},
   "source": [
    "### 3.1 Creating Tuples <a id=\"2_1\"></a>\n"
   ]
  },
  {
   "cell_type": "code",
   "execution_count": null,
   "metadata": {},
   "outputs": [],
   "source": [
    "# Creating a tuple\n",
    "colors = (\"red\", \"green\", \"blue\", \"red\")\n",
    "print(colors)"
   ]
  },
  {
   "cell_type": "code",
   "execution_count": null,
   "metadata": {},
   "outputs": [],
   "source": [
    "# type of colors\n",
    "print(type(colors))"
   ]
  },
  {
   "cell_type": "code",
   "execution_count": null,
   "metadata": {},
   "outputs": [],
   "source": [
    "# Accessing elements\n",
    "print(colors[1])  # Output: green"
   ]
  },
  {
   "cell_type": "code",
   "execution_count": null,
   "metadata": {},
   "outputs": [],
   "source": [
    "# Negative indexing\n",
    "print(colors[-1])  # Output: blue"
   ]
  },
  {
   "cell_type": "code",
   "execution_count": null,
   "metadata": {},
   "outputs": [],
   "source": [
    "# Slicing\n",
    "print(colors[0:2])  # Output: ('red', 'green')"
   ]
  },
  {
   "cell_type": "code",
   "execution_count": null,
   "metadata": {},
   "outputs": [],
   "source": [
    "# Tuples are immutable, so elements cannot be modified\n",
    "colors[1] = \"yellow\"  # This will raise a TypeError"
   ]
  },
  {
   "cell_type": "markdown",
   "metadata": {},
   "source": [
    "---\n",
    "\n",
    "## 4. Sets <a id=\"3\"></a>\n",
    "A set in Python is an unordered collection of unique items. Sets are mutable, but they do not allow duplicate elements.\n"
   ]
  },
  {
   "cell_type": "markdown",
   "metadata": {},
   "source": [
    "### 4.1 Creating Sets <a id=\"3_1\"></a>"
   ]
  },
  {
   "cell_type": "code",
   "execution_count": null,
   "metadata": {},
   "outputs": [],
   "source": [
    "# Creating a set\n",
    "numbers = {1, 2, 3, 4}\n",
    "print(numbers)"
   ]
  },
  {
   "cell_type": "code",
   "execution_count": null,
   "metadata": {},
   "outputs": [],
   "source": [
    "# type of numbers\n",
    "print(type(numbers))"
   ]
  },
  {
   "cell_type": "markdown",
   "metadata": {},
   "source": [
    "### 4.2 Common Set Operations <a id=\"3_2\"></a>\n",
    "\n",
    "Set methods are functions that perform specific operations on sets. Here are some commonly used set methods and operations:\n",
    "\n",
    "- **`.add(item)`**: Adds an item to the set.\n",
    "  \n",
    "- **`.remove(item)`**: Removes the specified item from the set. Raises a KeyError if the item is not found.\n",
    "  \n",
    "- **`.discard(item)`**: Removes the specified item from the set if it is present. Does nothing if the item is not found.\n",
    "  \n",
    "- **`.pop()`**: Removes and returns an arbitrary item from the set. Raises a KeyError if the set is empty.\n",
    "  \n",
    "- **`.clear()`**: Removes all items from the set.\n",
    "  \n",
    "- **`.union(set)`**: Returns a new set with all items from both sets.\n",
    "  \n",
    "- **`.intersection(set)`**: Returns a new set with only the items that are common to both sets.\n",
    "  \n",
    "- **`.difference(set)`**: Returns a new set with items that are in the first set but not in the second set.\n",
    "  \n",
    "- **`.symmetric_difference(set)`**: Returns a new set with items that are in either set but not in both.\n",
    "  \n",
    "- **`.issubset(set)`**: Returns `True` if the set is a subset of the specified set.\n",
    "  \n",
    "- **`.issuperset(set)`**: Returns `True` if the set is a superset of the specified set.\n",
    "  \n",
    "- **`.copy()`**: Returns a shallow copy of the set."
   ]
  },
  {
   "cell_type": "code",
   "execution_count": null,
   "metadata": {},
   "outputs": [],
   "source": [
    "# Adding elements\n",
    "numbers.add(5)\n",
    "print(numbers)  # Output: {1, 2, 3, 4, 5}"
   ]
  },
  {
   "cell_type": "code",
   "execution_count": null,
   "metadata": {},
   "outputs": [],
   "source": [
    "# Removing elements\n",
    "numbers.remove(3)\n",
    "print(numbers)  # Output: {1, 2, 4, 5}"
   ]
  },
  {
   "cell_type": "code",
   "execution_count": null,
   "metadata": {},
   "outputs": [],
   "source": [
    "# Set operations (union, intersection, difference)\n",
    "evens = {2, 4, 6}\n",
    "print(numbers.union(evens))  # Output: {1, 2, 4, 5, 6}\n",
    "print(numbers.intersection(evens))  # Output: {2, 4}\n",
    "print(numbers.difference(evens))  # Output: {1, 5}\n",
    "print(evens.difference(numbers))  # Output: {6}"
   ]
  },
  {
   "cell_type": "markdown",
   "metadata": {},
   "source": [
    "---\n",
    "## 5. Dictionaries <a id=\"4\"></a>\n",
    "A dictionary in Python is an unordered collection of key-value pairs. Each key is unique and maps to a value."
   ]
  },
  {
   "cell_type": "markdown",
   "metadata": {},
   "source": [
    "### 5.1 Creating Dictionaries <a id=\"4_1\"></a>"
   ]
  },
  {
   "cell_type": "code",
   "execution_count": null,
   "metadata": {},
   "outputs": [],
   "source": [
    "# Creating a dictionary\n",
    "student = {\n",
    "    \"name\": \"Alice\",\n",
    "    \"age\": 25,\n",
    "    \"courses\": [\"Math\", \"CS\"]\n",
    "}\n",
    "print(student)"
   ]
  },
  {
   "cell_type": "code",
   "execution_count": null,
   "metadata": {},
   "outputs": [],
   "source": [
    "# type of student\n",
    "print(type(student))"
   ]
  },
  {
   "cell_type": "markdown",
   "metadata": {},
   "source": [
    "### 5.2 Accessing and Modifying Dictionaries <a id=\"4_2\"></a>"
   ]
  },
  {
   "cell_type": "code",
   "execution_count": null,
   "metadata": {},
   "outputs": [],
   "source": [
    "# Accessing elements\n",
    "print(student[\"first_name\"])  # Output: Alice"
   ]
  },
  {
   "cell_type": "code",
   "execution_count": null,
   "metadata": {},
   "outputs": [],
   "source": [
    "# Accessing elements using get method\n",
    "print(student.get(\"age\"))  # Output: 25\n",
    "print(student.get(\"last_name\", \"N/A\"))  # Output: N/A"
   ]
  },
  {
   "cell_type": "code",
   "execution_count": null,
   "metadata": {},
   "outputs": [],
   "source": [
    "# Modifying elements\n",
    "student[\"age\"] = 26\n",
    "print(student)  # Output: {'name': 'Alice', 'age': 26, 'courses': ['Math', 'CS']}"
   ]
  },
  {
   "cell_type": "markdown",
   "metadata": {},
   "source": [
    "### 5.3 Common Dictionary Methods <a id=\"4_3\"></a>"
   ]
  },
  {
   "cell_type": "code",
   "execution_count": null,
   "metadata": {},
   "outputs": [],
   "source": [
    "# Adding elements\n",
    "student[\"grade\"] = \"A\"\n",
    "print(student)  # Output: {'name': 'Alice', 'age': 26, 'courses': ['Math', 'CS'], 'grade': 'A'}"
   ]
  },
  {
   "cell_type": "code",
   "execution_count": null,
   "metadata": {},
   "outputs": [],
   "source": [
    "# Removing elements\n",
    "del student[\"courses\"]\n",
    "print(student)  # Output: {'name': 'Alice', 'age': 26, 'grade': 'A'}"
   ]
  },
  {
   "cell_type": "markdown",
   "metadata": {},
   "source": [
    "\n",
    "---\n",
    "\n",
    "## 6. Comparison Between Primitive and Reference Data Types (Data Structures) <a id=\"6\"></a>\n",
    "\n",
    "### Key Differences\n",
    "1. **Storage**:\n",
    "   - Primitive data types store the actual value.\n",
    "   - Reference data types store the address of the object in memory.\n",
    "\n",
    "2. **Copy Behavior**:\n",
    "   - Copying a primitive data type creates a new copy of the value.\n",
    "   - Copying a reference data type creates a new reference to the same object."
   ]
  },
  {
   "cell_type": "markdown",
   "metadata": {},
   "source": [
    "\n",
    "### Primitive Data Types\n",
    "Primitive data types store the actual values. When you assign a primitive data type to another variable, it copies the value directly.\n",
    "\n",
    "**Example:**"
   ]
  },
  {
   "cell_type": "code",
   "execution_count": null,
   "metadata": {},
   "outputs": [],
   "source": [
    "# Primitive data types example\n",
    "x = 10\n",
    "y = x  # y gets a copy of the value of x\n",
    "y = 20\n",
    "\n",
    "print(f\"x: {x}\")  # Output: x: 10\n",
    "print(f\"y: {y}\")  # Output: y: 20"
   ]
  },
  {
   "cell_type": "markdown",
   "metadata": {},
   "source": [
    "### Reference Data Types\n",
    "Reference data types store references (or addresses) to the actual data. When you assign a reference data type to another variable, it copies the reference, not the value. This means changes to the new variable will affect the original variable.\n",
    "\n",
    "**Example:**"
   ]
  },
  {
   "cell_type": "code",
   "execution_count": null,
   "metadata": {},
   "outputs": [],
   "source": [
    "# Reference data types example\n",
    "list1 = [1, 2, 3]\n",
    "list2 = list1  # list2 gets a reference to list1\n",
    "list2.append(4)\n",
    "\n",
    "print(f\"list1: {list1}\")  # Output: list1: [1, 2, 3, 4]\n",
    "print(f\"list2: {list2}\")  # Output: list2: [1, 2, 3, 4]"
   ]
  },
  {
   "cell_type": "markdown",
   "metadata": {},
   "source": [
    "\n",
    "---\n",
    "\n",
    "## 7. Practical Examples <a id=\"7\"></a>\n",
    "Let's practice what we've learned with some practical examples."
   ]
  },
  {
   "cell_type": "markdown",
   "metadata": {},
   "source": [
    "### Example 1: Calculate the average of a list of numbers"
   ]
  },
  {
   "cell_type": "code",
   "execution_count": null,
   "metadata": {},
   "outputs": [],
   "source": [
    "numbers = [10, 20, 30, 40, 50]\n",
    "average = sum(numbers) / len(numbers)\n",
    "print(f\"The average is {average:.0f}\")"
   ]
  },
  {
   "cell_type": "markdown",
   "metadata": {},
   "source": [
    "\n",
    "---\n",
    "\n",
    "## 8. Exercise <a id=\"8\"></a>\n",
    "Now it's your turn to practice! Try this simple exercise:\n",
    "\n",
    "**Analyze Student Grades**:\n",
    "\n",
    "Write a program to manage a collection of student grades using a dictionary.  \n",
    "Each key in the dictionary should be a student's name, and the corresponding value should be a list of their grades.\n",
    "\n",
    "| Student  | Grades         |\n",
    "|----------|----------------|\n",
    "| Alice    | 85, 90, 78     |\n",
    "| Bob      | 70, 68, 60     |\n",
    "| Charlie  | 95, 100, 100   |\n",
    "\n",
    "Perform the following tasks:"
   ]
  },
  {
   "cell_type": "code",
   "execution_count": null,
   "metadata": {},
   "outputs": [],
   "source": [
    "# 1. Create the dictionary with student grades\n"
   ]
  },
  {
   "cell_type": "code",
   "execution_count": null,
   "metadata": {},
   "outputs": [],
   "source": [
    "# 2. calculate the total grade points for each student\n"
   ]
  },
  {
   "cell_type": "code",
   "execution_count": null,
   "metadata": {},
   "outputs": [],
   "source": [
    "# 3. print the student name and total grade points\n"
   ]
  },
  {
   "cell_type": "code",
   "execution_count": null,
   "metadata": {},
   "outputs": [],
   "source": [
    "# 4. print each student name and if they passed or failed, if the passing grade is \n"
   ]
  },
  {
   "cell_type": "markdown",
   "metadata": {},
   "source": [
    "<details>\n",
    "<summary>💡 Solution</summary>\n",
    "\n",
    "```python\n",
    "# 1: Create a Dictionary\n",
    "grades = {\n",
    "    \"Alice\": [85, 90, 78],\n",
    "    \"Bob\": [70, 68, 60],\n",
    "    \"Charlie\": [95, 100, 100],\n",
    "}\n",
    "print(grades)\n",
    "\n",
    "# 2: Calculate total grade\n",
    "totals = {\n",
    "    \"Alice\": sum(grades[\"Alice\"]),\n",
    "    \"Bob\": sum(grades[\"Bob\"]),\n",
    "    \"Charlie\": sum(grades[\"Charlie\"]),\n",
    "}\n",
    "print(totals)\n",
    "\n",
    "# 3. Print each student's name and total grade\n",
    "print(f'Alice: {totals[\"Alice\"]}')\n",
    "print(f'Bob: {totals[\"Bob\"]}')\n",
    "print(f'Charlie: {totals[\"Charlie\"]}')\n",
    "\n",
    "# 4. print each student name and if they passed or failed, if the passing grade is 200\n",
    "print(\"Alice passed.\")\n",
    "print(\"Bob failed.\")\n",
    "print(\"Charlie passed.\")\n",
    "\n",
    "```\n",
    "\n",
    "</details>"
   ]
  },
  {
   "cell_type": "markdown",
   "metadata": {},
   "source": [
    "<details>\n",
    "<summary>💡 Another Solution</summary>\n",
    "\n",
    "```python\n",
    "# 1: Create a Dictionary\n",
    "students = {\n",
    "    \"Alice\": {\n",
    "        \"grades\": [85, 90, 78],\n",
    "    },\n",
    "    \"Bob\": {\n",
    "        \"grades\": [70, 68, 60],\n",
    "    },\n",
    "    \"Charlie\": {\n",
    "        \"grades\": [95, 100, 100],\n",
    "    },\n",
    "}\n",
    "print(students)\n",
    "\n",
    "# 2: Calculate total grade\n",
    "students[\"Alice\"][\"total\"] = sum(students[\"Alice\"][\"grades\"])\n",
    "students[\"Bob\"][\"total\"] = sum(students[\"Bob\"][\"grades\"])\n",
    "students[\"Charlie\"][\"total\"] = sum(students[\"Charlie\"][\"grades\"])\n",
    "print(students)\n",
    "\n",
    "# 3. Print each student's name and total grade\n",
    "print(f'Alice: {students[\"Alice\"][\"total\"]}')\n",
    "print(f'Bob: {students[\"Bob\"][\"total\"]}')\n",
    "print(f'Charlie: {students[\"Charlie\"][\"total\"]}')\n",
    "\n",
    "# 4. print each student name and if they passed or failed, if the passing grade is 200\n",
    "print(\"Alice passed.\")\n",
    "print(\"Bob failed.\")\n",
    "print(\"Charlie passed.\")\n",
    "\n",
    "```\n",
    "\n",
    "</details>\n"
   ]
  },
  {
   "cell_type": "markdown",
   "metadata": {},
   "source": [
    "\n",
    "---\n",
    "\n",
    "## 👨‍💻 Author\n",
    "\n",
    "**Samer Hany** | Full-stack Developer & Data Scientist\n",
    "\n",
    "<table style=\"border:none;\">\n",
    "  <tr>\n",
    "    <td style=\"padding: 5px 0; border:none;\">- Website:</td>\n",
    "    <td style=\"padding: 5px; border:none;\"><a href=\"https://samerhany.com\">samerhany.com</a></td>\n",
    "  </tr>\n",
    "  <tr>\n",
    "    <td style=\"padding: 5px 0; border:none;\">- LinkedIn:</td>\n",
    "    <td style=\"padding: 5px; border:none;\"><a href=\"https://linkedin.com/in/samer-hany\">in/samer-hany</a></td>\n",
    "  </tr>\n",
    "  <tr>\n",
    "    <td style=\"padding: 5px 0; border:none;\">- YouTube:</td>\n",
    "    <td style=\"padding: 5px; border:none;\"><a href=\"https://www.youtube.com/@SamerHany\">c/SamerHany</a></td>\n",
    "  </tr>\n",
    "  <tr>\n",
    "    <td style=\"padding: 5px 0; border:none;\">- GitHub:</td>\n",
    "    <td style=\"padding: 5px; border:none;\"><a href=\"https://github.com/SamerHany\">/SamerHany</a></td>\n",
    "  </tr>\n",
    "</table>"
   ]
  }
 ],
 "metadata": {
  "kernelspec": {
   "display_name": "Python 3",
   "language": "python",
   "name": "python3"
  },
  "language_info": {
   "codemirror_mode": {
    "name": "ipython",
    "version": 3
   },
   "file_extension": ".py",
   "mimetype": "text/x-python",
   "name": "python",
   "nbconvert_exporter": "python",
   "pygments_lexer": "ipython3",
   "version": "3.12.0"
  }
 },
 "nbformat": 4,
 "nbformat_minor": 2
}
