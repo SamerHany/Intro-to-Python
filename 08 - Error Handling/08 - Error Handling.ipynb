{
 "cells": [
  {
   "cell_type": "markdown",
   "metadata": {},
   "source": [
    "# 8. Error Handling in Python\n",
    "\n",
    "Welcome to the eighth tutorial in our \"Intro to Python\" series! In this notebook, we will explore how to handle errors in Python effectively. By the end of this tutorial, you'll understand how to use `try-except` blocks, raise exceptions, and create custom exceptions.\n",
    "\n",
    "## 📚 Table of Contents:\n",
    "\n",
    "1. [Introduction to Error Handling](#1)  \n",
    "\n",
    "2. [Using `try-except` Blocks](#2)  \n",
    "\n",
    "3. [The `else` Clause in Error Handling](#3)  \n",
    "\n",
    "4. [The `finally` Block](#4)  \n",
    "\n",
    "5. [Raising Exceptions](#5)  \n",
    "\n",
    "6. [Creating Custom Exceptions](#6)  \n",
    "\n",
    "7. [Practical Example](#7)  \n",
    "\n",
    "8. [Exercise](#8)"
   ]
  },
  {
   "cell_type": "markdown",
   "metadata": {},
   "source": [
    "---\n",
    "\n",
    "## 1. Introduction to Error Handling <a id=\"1\"></a>\n",
    "\n",
    "Error handling allows your program to continue executing or fail gracefully when it encounters unexpected conditions.  \n",
    "\n",
    "Python provides `try-except` blocks to catch and handle exceptions. Let's start with understanding what exceptions are."
   ]
  },
  {
   "cell_type": "markdown",
   "metadata": {},
   "source": [
    "\n",
    "---\n",
    "\n",
    "## 2. Using `try-except` Blocks <a id=\"2\"></a>\n",
    "\n",
    "In Python, errors can occur for various reasons such as invalid input, file access issues, or dividing by zero. These errors are called **exceptions**. Without proper handling, an exception will crash your program.\n",
    "\n",
    "Using `try-except` blocks allows your program to handle errors gracefully without crashing, and can be used to provide user-friendly error messages.\n",
    "\n",
    "### 2.1 Error Without Handling\n",
    "\n",
    "If we do not handle exceptions, the program will stop running when an error occurs.\n",
    "\n",
    "#### Example (without error handling):\n"
   ]
  },
  {
   "cell_type": "code",
   "execution_count": 1,
   "metadata": {},
   "outputs": [
    {
     "ename": "ValueError",
     "evalue": "invalid literal for int() with base 10: 'Hello'",
     "output_type": "error",
     "traceback": [
      "\u001b[31m---------------------------------------------------------------------------\u001b[39m",
      "\u001b[31mValueError\u001b[39m                                Traceback (most recent call last)",
      "\u001b[36mCell\u001b[39m\u001b[36m \u001b[39m\u001b[32mIn[1]\u001b[39m\u001b[32m, line 3\u001b[39m\n\u001b[32m      1\u001b[39m \u001b[38;5;66;03m# Trying to convert a non-numeric string to an integer\u001b[39;00m\n\u001b[32m      2\u001b[39m content = \u001b[33m\"\u001b[39m\u001b[33mHello\u001b[39m\u001b[33m\"\u001b[39m\n\u001b[32m----> \u001b[39m\u001b[32m3\u001b[39m number = \u001b[38;5;28;43mint\u001b[39;49m\u001b[43m(\u001b[49m\u001b[43mcontent\u001b[49m\u001b[43m)\u001b[49m  \u001b[38;5;66;03m# This will raise a ValueError\u001b[39;00m\n\u001b[32m      4\u001b[39m \u001b[38;5;28mprint\u001b[39m(\u001b[33m\"\u001b[39m\u001b[33mNumber:\u001b[39m\u001b[33m\"\u001b[39m, number)\n",
      "\u001b[31mValueError\u001b[39m: invalid literal for int() with base 10: 'Hello'"
     ]
    }
   ],
   "source": [
    "# Trying to convert a non-numeric string to an integer\n",
    "content = \"Hello\"\n",
    "number = int(content)  # This will raise a ValueError\n",
    "print(\"Number:\", number)"
   ]
  },
  {
   "cell_type": "markdown",
   "metadata": {},
   "source": [
    "#### Output:\n",
    "```\n",
    "ValueError: invalid literal for int() with base 10: 'Hello'\n",
    "```\n",
    "\n",
    "In this case, the program crashes with a `ValueError` because the content cannot be converted to an integer.\n"
   ]
  },
  {
   "cell_type": "markdown",
   "metadata": {},
   "source": [
    "### 2.2 Handling Errors Using `except` Only\n",
    "\n",
    "To prevent the program from crashing, we can use a `try-except` block to catch the error and display a user-friendly message.\n",
    "\n",
    "#### Example (catching all exceptions):\n"
   ]
  },
  {
   "cell_type": "code",
   "execution_count": 2,
   "metadata": {},
   "outputs": [
    {
     "name": "stdout",
     "output_type": "stream",
     "text": [
      "An error occurred during the conversion.\n"
     ]
    }
   ],
   "source": [
    "try:\n",
    "    content = \"Hello\"\n",
    "    number = int(content)  # This will raise a ValueError\n",
    "    print(\"Number:\", number)\n",
    "except:\n",
    "    print(\"An error occurred during the conversion.\")"
   ]
  },
  {
   "cell_type": "markdown",
   "metadata": {},
   "source": [
    "#### Output:\n",
    "```\n",
    "An error occurred during the conversion.\n",
    "```\n",
    "\n",
    "In this example, the `except` block catches all types of exceptions. However, catching all exceptions is generally not recommended because it hides what went wrong.\n",
    "\n"
   ]
  },
  {
   "cell_type": "markdown",
   "metadata": {},
   "source": [
    "### 2.3 Handling Specific Types of Exceptions\n",
    "\n",
    "It is good practice to handle specific types of exceptions when you expect certain errors. For example, you can catch a `ValueError` when converting strings to integers and use a default exception fallback for other unexpected errors.\n",
    "\n",
    "#### Example (handling specific exceptions):\n"
   ]
  },
  {
   "cell_type": "code",
   "execution_count": 3,
   "metadata": {},
   "outputs": [
    {
     "name": "stdout",
     "output_type": "stream",
     "text": [
      "Error: The content is not a valid number.\n",
      "last line of the script\n"
     ]
    }
   ],
   "source": [
    "try:\n",
    "    content = \"Hello\"\n",
    "    number = int(content)  # This will raise a ValueError\n",
    "    print(\"Number:\", number)\n",
    "except ValueError:\n",
    "    print(\"Error: The content is not a valid number.\")\n",
    "except Exception as e:\n",
    "    print(f\"An unexpected error occurred: {e}\")\n",
    "\n",
    "print('last line of the script')"
   ]
  },
  {
   "cell_type": "markdown",
   "metadata": {},
   "source": [
    "#### Output:\n",
    "```\n",
    "Error: The content is not a valid number.\n",
    "```\n",
    "\n",
    "- **ValueError**: Raised when trying to convert the string `\"Hello\"` to an integer.\n",
    "- **General Exception (`Exception`)**: Acts as a fallback for any unexpected errors.\n",
    "\n",
    "This way, the program can provide specific feedback for certain exceptions while also handling any unexpected errors in a controlled way.\n"
   ]
  },
  {
   "cell_type": "markdown",
   "metadata": {},
   "source": [
    "---\n",
    "\n",
    "## 3. The `else` Clause in Error Handling <a id=\"3\"></a>\n",
    "\n",
    "The `else` block is executed if no exceptions are raised in the `try` block. It’s useful for running code that should only be executed if everything went smoothly.\n",
    "\n",
    "### Example:\n"
   ]
  },
  {
   "cell_type": "code",
   "execution_count": 4,
   "metadata": {},
   "outputs": [
    {
     "name": "stdout",
     "output_type": "stream",
     "text": [
      "Invalid input!\n"
     ]
    }
   ],
   "source": [
    "try:\n",
    "    num = int(input(\"Enter a number: \"))\n",
    "except ValueError:\n",
    "    print(\"Invalid input!\")\n",
    "else:\n",
    "    print(f\"The number you entered is {num}.\")"
   ]
  },
  {
   "cell_type": "markdown",
   "metadata": {},
   "source": [
    "---\n",
    "\n",
    "## 4. The `finally` Block <a id=\"4\"></a>\n",
    "\n",
    "The `finally` block will always be executed, regardless of whether an exception was raised or not. It's typically used to clean up resources (e.g., closing files or database connections).\n",
    "\n",
    "### Example:\n"
   ]
  },
  {
   "cell_type": "code",
   "execution_count": 5,
   "metadata": {},
   "outputs": [
    {
     "name": "stdout",
     "output_type": "stream",
     "text": [
      "File content: This is a test file.\n",
      "Error: Could not convert the file content to an integer.\n",
      "Closing the file.\n"
     ]
    }
   ],
   "source": [
    "try:\n",
    "    # Open and read the file\n",
    "    file = open('data.txt', 'r')\n",
    "    content = file.read()\n",
    "    print(\"File content:\", content)\n",
    "\n",
    "    # Cause a ValueError by trying to convert the content to an integer\n",
    "    number = int(content)\n",
    "    print(\"The number is:\", number)\n",
    "except ValueError:\n",
    "    print(\"Error: Could not convert the file content to an integer.\")\n",
    "finally:\n",
    "    print(\"Closing the file.\")\n",
    "    file.close()"
   ]
  },
  {
   "cell_type": "markdown",
   "metadata": {},
   "source": [
    "---\n",
    "\n",
    "## 5. Raising Exceptions <a id=\"5\"></a>\n",
    "\n",
    "You can manually raise exceptions in your code using the `raise` keyword. This is useful when you want to signal that something went wrong in your program logic.\n",
    "\n",
    "### Example:\n"
   ]
  },
  {
   "cell_type": "code",
   "execution_count": 6,
   "metadata": {},
   "outputs": [
    {
     "name": "stdout",
     "output_type": "stream",
     "text": [
      "Error: Age cannot be negative.\n"
     ]
    }
   ],
   "source": [
    "def check_age(age):\n",
    "    if age < 0:\n",
    "        raise ValueError(\"Age cannot be negative.\")\n",
    "    return age\n",
    "\n",
    "try:\n",
    "    check_age(-1)\n",
    "except ValueError as e:\n",
    "    print('Error:', e)"
   ]
  },
  {
   "cell_type": "markdown",
   "metadata": {},
   "source": [
    "---\n",
    "\n",
    "## 6. Creating Custom Exceptions <a id=\"6\"></a>\n",
    "\n",
    "In Python, you can create your own exceptions by extending the built-in `Exception` class. This is useful when you want to raise domain-specific errors in your code.\n",
    "\n",
    "### Example:\n"
   ]
  },
  {
   "cell_type": "code",
   "execution_count": 7,
   "metadata": {},
   "outputs": [
    {
     "name": "stdout",
     "output_type": "stream",
     "text": [
      "Error: Input must be a positive number.\n"
     ]
    }
   ],
   "source": [
    "class InvalidInputError(Exception):\n",
    "    pass\n",
    "\n",
    "def validate_input(value):\n",
    "    if value < 0:\n",
    "        raise InvalidInputError(\"Input must be a positive number.\")\n",
    "\n",
    "try:\n",
    "    validate_input(-5)\n",
    "except InvalidInputError as e:\n",
    "    print('Error:', e)"
   ]
  },
  {
   "cell_type": "markdown",
   "metadata": {},
   "source": [
    "---\n",
    "\n",
    "## 7. Practical Example: Temperature Conversion Program <a id=\"7\"></a>\n",
    "\n",
    "The user is asked to input a temperature in Fahrenheit, and the program converts it to Celsius, handling any potential errors in user input.\n",
    "\n",
    "### Example:\n"
   ]
  },
  {
   "cell_type": "code",
   "execution_count": 8,
   "metadata": {},
   "outputs": [
    {
     "name": "stdout",
     "output_type": "stream",
     "text": [
      "The temperature in Celsius is: 37.78\n",
      "Temperature conversion completed.\n"
     ]
    }
   ],
   "source": [
    "def temperature_converter():\n",
    "    try:\n",
    "        # Input from user for the temperature in Fahrenheit\n",
    "        fahrenheit = float(input(\"Enter the temperature in Fahrenheit: \"))\n",
    "\n",
    "        # Convert Fahrenheit to Celsius\n",
    "        celsius = (fahrenheit - 32) * 5/9\n",
    "\n",
    "        print(f\"The temperature in Celsius is: {celsius:.2f}\")\n",
    "\n",
    "    except ValueError:\n",
    "        # Handle case where the user enters invalid data (non-numeric input)\n",
    "        print(\"Input error: Please enter a valid number for the temperature.\")\n",
    "\n",
    "    else:\n",
    "        print(\"Temperature conversion completed.\")\n",
    "\n",
    "# Example usage\n",
    "temperature_converter()\n"
   ]
  },
  {
   "cell_type": "markdown",
   "metadata": {},
   "source": [
    "---\n",
    "\n",
    "## 8. Exercise <a id=\"8\"></a>\n",
    "\n",
    "### Task:\n",
    "\n",
    "Write a Python script that:\n",
    "\n",
    "1. Prompts the user for a filename.\n",
    "2. Attempts to open and read the file.\n",
    "3. Handles the following exception:\n",
    "   - `FileNotFoundError` if the file does not exist.\n",
    "4. Prints a custom message for each error type and ensures the file is closed (if opened).\n"
   ]
  },
  {
   "cell_type": "code",
   "execution_count": 10,
   "metadata": {},
   "outputs": [
    {
     "name": "stdout",
     "output_type": "stream",
     "text": [
      "Error: File not found.\n"
     ]
    }
   ],
   "source": [
    "# get file name from the user\n",
    "filename = input(\"Enter the filename: \")\n",
    "\n",
    "# try to open the file and handle the exceptions\n",
    "try:\n",
    "    with open(filename, 'r') as file:\n",
    "        content = file.read()\n",
    "        print(\"File content:\", content)\n",
    "except FileNotFoundError:\n",
    "    print(\"Error: File not found.\")\n",
    "except PermissionError:\n",
    "    print(\"Error: Permission denied.\")\n",
    "except Exception as e:\n",
    "    print(f\"An unexpected error occurred: {e}\")\n"
   ]
  },
  {
   "cell_type": "markdown",
   "metadata": {},
   "source": [
    "\n",
    "<details>\n",
    "<summary>💡 Solution</summary>\n",
    "\n",
    "```python\n",
    "filename = input(\"Enter the filename: \")\n",
    "\n",
    "try:\n",
    "    with open(filename, 'r') as file:\n",
    "        content = file.read()\n",
    "        print(content)\n",
    "except FileNotFoundError:\n",
    "    print(f\"File '{filename}' not found.\")\n",
    "except:\n",
    "    print('Something else went wrong')\n",
    "else:\n",
    "    print(\"File operation completed.\")\n",
    "```\n",
    "\n",
    "</details>"
   ]
  },
  {
   "cell_type": "markdown",
   "metadata": {},
   "source": [
    "\n",
    "---\n",
    "\n",
    "## 👨‍💻 Author\n",
    "\n",
    "**Samer Hany** | Full-stack Developer & Data Scientist\n",
    "\n",
    "<table style=\"border:none;\">\n",
    "  <tr>\n",
    "    <td style=\"padding: 5px 0; border:none;\">- Website:</td>\n",
    "    <td style=\"padding: 5px; border:none;\"><a href=\"https://samerhany.com\">samerhany.com</a></td>\n",
    "  </tr>\n",
    "  <tr>\n",
    "    <td style=\"padding: 5px 0; border:none;\">- LinkedIn:</td>\n",
    "    <td style=\"padding: 5px; border:none;\"><a href=\"https://linkedin.com/in/samer-hany\">in/samer-hany</a></td>\n",
    "  </tr>\n",
    "  <tr>\n",
    "    <td style=\"padding: 5px 0; border:none;\">- YouTube:</td>\n",
    "    <td style=\"padding: 5px; border:none;\"><a href=\"https://www.youtube.com/@SamerHany\">c/SamerHany</a></td>\n",
    "  </tr>\n",
    "  <tr>\n",
    "    <td style=\"padding: 5px 0; border:none;\">- GitHub:</td>\n",
    "    <td style=\"padding: 5px; border:none;\"><a href=\"https://github.com/SamerHany\">/SamerHany</a></td>\n",
    "  </tr>\n",
    "</table>\n"
   ]
  }
 ],
 "metadata": {
  "kernelspec": {
   "display_name": "Python 3",
   "language": "python",
   "name": "python3"
  },
  "language_info": {
   "codemirror_mode": {
    "name": "ipython",
    "version": 3
   },
   "file_extension": ".py",
   "mimetype": "text/x-python",
   "name": "python",
   "nbconvert_exporter": "python",
   "pygments_lexer": "ipython3",
   "version": "3.13.2"
  }
 },
 "nbformat": 4,
 "nbformat_minor": 2
}
