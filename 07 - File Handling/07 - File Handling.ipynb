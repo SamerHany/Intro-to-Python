{
 "cells": [
  {
   "cell_type": "markdown",
   "metadata": {},
   "source": [
    "# 7. File Handling in Python\n",
    "\n",
    "Welcome to the seventh tutorial in our \"Intro to Python\" series! In this notebook, we will explore how to handle files in Python. By the end of this tutorial, you will understand how to open, read, write, and append files, and how to work with file paths.\n",
    "\n",
    "## 📚 Table of Contents\n",
    "\n",
    "\n",
    "1. [Introduction to File Handling](#1)\n",
    "\n",
    "2. [Opening and Closing Files (Traditional Method)](#2)\n",
    "\n",
    "3. [Using the `with` Statement](#3)\n",
    "\n",
    "4. [Reading Files](#4)\n",
    "\n",
    "5. [Writing and Appending to Files](#5)\n",
    "\n",
    "6. [Working with File Paths](#6)\n",
    "\n",
    "7. [Practical Examples](#7)\n",
    "\n",
    "8. [Exercise](#8)\n",
    "\n"
   ]
  },
  {
   "cell_type": "markdown",
   "metadata": {},
   "source": [
    "---\n",
    "\n",
    "## 1. Introduction to File Handling <a id=\"1\"></a>\n",
    "\n",
    "File handling is an essential skill in Python programming. Whether you're reading configuration files, logging data, or storing results, being able to open, manipulate, and close files is important. Let's start by learning the basics.\n"
   ]
  },
  {
   "cell_type": "markdown",
   "metadata": {},
   "source": [
    "---\n",
    "\n",
    "## 2. Opening and Closing Files (Traditional Method) <a id=\"2\"></a>\n",
    "\n",
    "In Python, the traditional way to open and close a file involves using the `open()` function and manually closing the file with `close()`. Here’s how it works:\n",
    "\n",
    "### Example:\n"
   ]
  },
  {
   "cell_type": "code",
   "execution_count": 21,
   "metadata": {},
   "outputs": [
    {
     "name": "stdout",
     "output_type": "stream",
     "text": [
      "Hello, world!\n",
      "This is a new line.\n",
      "Appending this new line.\n"
     ]
    }
   ],
   "source": [
    "# Opening a file in read mode\n",
    "file = open('example.txt', 'r')\n",
    "\n",
    "# Do some work with the file\n",
    "content = file.read()\n",
    "print(content)\n",
    "\n",
    "# Always close the file after you're done to free up system resources\n",
    "file.close()"
   ]
  },
  {
   "cell_type": "markdown",
   "metadata": {},
   "source": [
    "This method works but requires you to remember to close the file explicitly using the `close()` method. If you forget to close the file, it may lead to memory leaks or locked resources."
   ]
  },
  {
   "cell_type": "markdown",
   "metadata": {},
   "source": [
    "---\n",
    "\n",
    "## 3. Using the `with` Statement (Automatic File Closing) <a id=\"3\"></a>\n",
    "\n",
    "The `with` statement is a cleaner and more efficient way to handle file opening and closing in Python. It automatically closes the file when the block inside the `with` statement is done, even if an error occurs.\n",
    "\n",
    "### Example:\n"
   ]
  },
  {
   "cell_type": "code",
   "execution_count": 22,
   "metadata": {},
   "outputs": [
    {
     "name": "stdout",
     "output_type": "stream",
     "text": [
      "Hello, world!\n",
      "This is a new line.\n",
      "Appending this new line.\n"
     ]
    }
   ],
   "source": [
    "# Opening and closing a file automatically using `with`\n",
    "with open('example.txt', 'r') as file:\n",
    "    content = file.read()\n",
    "    print(content)  # File is automatically closed after this block"
   ]
  },
  {
   "cell_type": "markdown",
   "metadata": {},
   "source": [
    "---\n",
    "\n",
    "## 4. Reading Files <a id=\"4\"></a>\n",
    "\n",
    "Python provides several methods to read files:\n",
    "- `read()`: Reads the entire file as a single string.\n",
    "- `readlines()`: Reads all lines and returns them as a list of strings.\n",
    "- `readline()`: Reads one line from the file.\n",
    "\n",
    "### Example:\n"
   ]
  },
  {
   "cell_type": "code",
   "execution_count": 23,
   "metadata": {},
   "outputs": [
    {
     "name": "stdout",
     "output_type": "stream",
     "text": [
      "Hello, world!\n",
      "This is a new line.\n",
      "Appending this new line.\n"
     ]
    }
   ],
   "source": [
    "# reading the entire file   \n",
    "with open('example.txt', 'r') as file:\n",
    "    content = file.read()  # Reads the entire file\n",
    "    print(content)"
   ]
  },
  {
   "cell_type": "code",
   "execution_count": 24,
   "metadata": {},
   "outputs": [
    {
     "name": "stdout",
     "output_type": "stream",
     "text": [
      "['Hello, world!\\n', 'This is a new line.\\n', 'Appending this new line.']\n"
     ]
    }
   ],
   "source": [
    "# reading the lines of the file\n",
    "with open('example.txt', 'r') as file:\n",
    "    content = file.readlines()  # Reads the entire file\n",
    "    print(content)"
   ]
  },
  {
   "cell_type": "code",
   "execution_count": 25,
   "metadata": {},
   "outputs": [
    {
     "name": "stdout",
     "output_type": "stream",
     "text": [
      "Hello, world!\n",
      "\n",
      "This is a new line.\n",
      "\n",
      "Appending this new line.\n"
     ]
    }
   ],
   "source": [
    "# reading the file line by line\n",
    "with open('example.txt', 'r') as file:\n",
    "    line = file.readline()\n",
    "    while line:\n",
    "        print(line)\n",
    "        line = file.readline()\n"
   ]
  },
  {
   "cell_type": "markdown",
   "metadata": {},
   "source": [
    "---\n",
    "\n",
    "## 5. Writing and Appending to Files <a id=\"5\"></a>\n",
    "\n",
    "- **Writing**: Use `'w'` mode to write new content to a file. This will overwrite the file if it already exists.\n",
    "\n",
    "- **Appending**: Use `'a'` mode to append new content to an existing file without overwriting.\n",
    "\n",
    "### Example:\n"
   ]
  },
  {
   "cell_type": "code",
   "execution_count": 26,
   "metadata": {},
   "outputs": [],
   "source": [
    "# Writing to a file\n",
    "with open('example.txt', 'w') as file:\n",
    "    file.write(\"Hello, world!\\nThis is a new line.\")"
   ]
  },
  {
   "cell_type": "code",
   "execution_count": 27,
   "metadata": {},
   "outputs": [],
   "source": [
    "# Appending to a file\n",
    "with open('example.txt', 'a') as file:\n",
    "    file.write(\"\\nAppending this new line.\")"
   ]
  },
  {
   "cell_type": "markdown",
   "metadata": {},
   "source": [
    "---\n",
    "\n",
    "## 6. Working with File Paths <a id=\"6\"></a>\n",
    "\n",
    "File paths can be either **absolute** or **relative**. It's important to understand the difference when working with files across directories.\n",
    "\n",
    "We can use the `os` module to:\n",
    "- Get the current working directory: `os.getcwd()`\n",
    "\n",
    "- Change the working directory: `os.chdir(path)`\n",
    "\n",
    "- Check if a path exists: `os.path.exists(path)`\n",
    "\n",
    "- Check if a path is a directory: `os.path.isdir(path)`\n",
    "\n",
    "- Check if a path is a file: `os.path.isfile(path)`\n",
    "\n",
    "- Join two paths: `os.path.join(path1, path2, ...)`\n",
    "\n",
    "\n",
    "### Example:\n"
   ]
  },
  {
   "cell_type": "code",
   "execution_count": 28,
   "metadata": {},
   "outputs": [
    {
     "name": "stdout",
     "output_type": "stream",
     "text": [
      "Current Directory: d:\\GitHub\\STUDY\\intro-to-python\\07 - File Handling\n"
     ]
    }
   ],
   "source": [
    "import os\n",
    "\n",
    "# Get the current working directory\n",
    "current_directory = os.getcwd()\n",
    "print(\"Current Directory:\", current_directory)"
   ]
  },
  {
   "cell_type": "code",
   "execution_count": 29,
   "metadata": {},
   "outputs": [
    {
     "name": "stdout",
     "output_type": "stream",
     "text": [
      "File not found.\n"
     ]
    }
   ],
   "source": [
    "# Check if a file exists\n",
    "if os.path.exists('example2.txt'):\n",
    "    print(\"The file exists!\")\n",
    "else:\n",
    "    print(\"File not found.\")"
   ]
  },
  {
   "cell_type": "markdown",
   "metadata": {},
   "source": [
    "---\n",
    "\n",
    "## 7. Practical Examples <a id=\"7\"></a>"
   ]
  },
  {
   "cell_type": "markdown",
   "metadata": {},
   "source": [
    "### Example 1: Writing a list of items to a file"
   ]
  },
  {
   "cell_type": "code",
   "execution_count": 30,
   "metadata": {},
   "outputs": [],
   "source": [
    "items = ['Item 1', 'Item 2', 'Item 3']\n",
    "\n",
    "with open('items.txt', 'w') as file:\n",
    "    for item in items:\n",
    "        file.write(f\"{item}\\n\")\n"
   ]
  },
  {
   "cell_type": "markdown",
   "metadata": {},
   "source": [
    "### Example 2: Writing a list of items to a CSV file"
   ]
  },
  {
   "cell_type": "code",
   "execution_count": 31,
   "metadata": {},
   "outputs": [],
   "source": [
    "# writing a list of items to a CSV file\n",
    "items = [\n",
    "    ['Item 1', 'Description 1', 1.99],\n",
    "    ['Item 2', 'Description 2', 2.99],\n",
    "    ['Item 3', 'Description 3', 3.99],\n",
    "]\n",
    "\n",
    "with open('items.csv', 'w') as file:\n",
    "    # Write the header\n",
    "    file.write(\"Name,Description,Price\\n\")\n",
    "\n",
    "    # Write the items\n",
    "    for item in items:\n",
    "        file.write(f\"{item[0]},{item[1]},{item[2]}\\n\")"
   ]
  },
  {
   "cell_type": "markdown",
   "metadata": {},
   "source": [
    "---\n",
    "\n",
    "## 8. Exercise: Summarizing Data Across Multiple Sub-Directories <a id=\"8\"></a>\n",
    "\n",
    "**Objective**:  \n",
    "Write a Python script that reads CSV files from multiple sub-directories, consolidates the data, and adds an extra column to the final summary indicating the source location based on the sub-directory name.\n",
    "\n",
    "#### Steps:\n",
    "1. List all sub-directories in the root directory.\n",
    "\n",
    "2. For each sub-directory, read the CSV files.\n",
    "\n",
    "3. Append the data to a new consolidated file, adding the sub-directory name as a `Store` column.\n",
    "\n",
    "#### Hint:\n",
    "Use the `csv` module to interact with CSV files. ([documentation](https://python-adv-web-apps.readthedocs.io/en/latest/csv.html))\n"
   ]
  },
  {
   "cell_type": "code",
   "execution_count": 36,
   "metadata": {},
   "outputs": [],
   "source": [
    "import os\n",
    "import csv\n",
    "\n",
    "# Step 1: Set the root directory where the sub-directories are located\n",
    "root_dir = 'data'\n",
    "output_file = 'consolidated_data.csv'\n",
    "\n",
    "# Create or open the output file in write mode\n",
    "with open(output_file, 'w', newline='') as outfile:\n",
    "    # Create a CSV writer object\n",
    "    # TODO\n",
    "\n",
    "    # Write the header row for the consolidated CSV\n",
    "    # TODO\n",
    "\n",
    "    # Step 2: List all directories in the root directory\n",
    "    # TODO\n",
    "\n",
    "    # Step 3: Loop through each sub-directory\n",
    "    for subdir in subdirs:\n",
    "        # Step 4: List all CSV files in the sub-directory\n",
    "        # TODO\n",
    "\n",
    "        # Step 5: Loop through each CSV file in the sub-directory\n",
    "        for file in files:\n",
    "            # Step 6: Read CSV file and append data to the consolidated file\n",
    "            # TODO"
   ]
  },
  {
   "cell_type": "markdown",
   "metadata": {},
   "source": [
    "<details>\n",
    "<summary>💡 Solution</summary>\n",
    "\n",
    "```python\n",
    "import os\n",
    "import csv\n",
    "\n",
    "# Step 1: Set the root directory where the sub-directories are located\n",
    "root_dir = 'data'\n",
    "output_file = 'consolidated_data.csv'\n",
    "\n",
    "# Create or open the output file in write mode\n",
    "with open(output_file, 'w', newline='') as outfile:\n",
    "    # Create a CSV writer object\n",
    "    csv_writer = csv.writer(outfile)\n",
    "\n",
    "    # Write the header row for the consolidated CSV\n",
    "    csv_writer.writerow(['Date', 'Sales', 'Product', 'Store'])\n",
    "\n",
    "    # Step 2: List all directories in the root directory\n",
    "    subdirs = [d for d in os.listdir(root_dir) if os.path.isdir(os.path.join(root_dir, d))]\n",
    "\n",
    "    # Step 3: Loop through each sub-directory\n",
    "    for subdir in subdirs:\n",
    "        # Step 4: List all CSV files in the sub-directory\n",
    "        subdir_path = os.path.join(root_dir, subdir)\n",
    "        files = [f for f in os.listdir(subdir_path) if f.endswith('.csv')]\n",
    "\n",
    "        # Step 5: Loop through each CSV file in the sub-directory\n",
    "        for file in files:\n",
    "            # Step 6: Read CSV file and append data to the consolidated file\n",
    "            file_path = os.path.join(subdir_path, file)\n",
    "            with open(file_path, 'r', newline='') as infile:\n",
    "                # Create a CSV reader object\n",
    "                csv_reader = csv.reader(infile)\n",
    "\n",
    "                # Skip the header row of the input file\n",
    "                next(csv_reader)\n",
    "\n",
    "                # Append each row to the consolidated file, adding the location\n",
    "                for row in csv_reader:\n",
    "                    row.append(subdir)  # Add the sub-directory as the 'Store'\n",
    "                    csv_writer.writerow(row)\n",
    "```\n",
    "\n",
    "</details>"
   ]
  },
  {
   "cell_type": "markdown",
   "metadata": {},
   "source": [
    "\n",
    "---\n",
    "\n",
    "## 👨‍💻 Author\n",
    "\n",
    "**Samer Hany** | Full-stack Developer & Data Scientist\n",
    "\n",
    "<table style=\"border:none;\">\n",
    "  <tr>\n",
    "    <td style=\"padding: 5px 0; border:none;\">- Website:</td>\n",
    "    <td style=\"padding: 5px; border:none;\"><a href=\"https://samerhany.com\">samerhany.com</a></td>\n",
    "  </tr>\n",
    "  <tr>\n",
    "    <td style=\"padding: 5px 0; border:none;\">- LinkedIn:</td>\n",
    "    <td style=\"padding: 5px; border:none;\"><a href=\"https://linkedin.com/in/samer-hany\">in/samer-hany</a></td>\n",
    "  </tr>\n",
    "  <tr>\n",
    "    <td style=\"padding: 5px 0; border:none;\">- YouTube:</td>\n",
    "    <td style=\"padding: 5px; border:none;\"><a href=\"https://www.youtube.com/@SamerHany\">c/SamerHany</a></td>\n",
    "  </tr>\n",
    "  <tr>\n",
    "    <td style=\"padding: 5px 0; border:none;\">- GitHub:</td>\n",
    "    <td style=\"padding: 5px; border:none;\"><a href=\"https://github.com/SamerHany\">/SamerHany</a></td>\n",
    "  </tr>\n",
    "  <tr>\n",
    "    <td style=\"padding: 5px 0; border:none;\">- Discord:</td>\n",
    "    <td style=\"padding: 5px; border:none;\"><a href=\"https://discord.gg/7ZzmGWQR\">Join our Community</a></td>\n",
    "  </tr>\n",
    "</table>\n"
   ]
  }
 ],
 "metadata": {
  "kernelspec": {
   "display_name": "Python 3",
   "language": "python",
   "name": "python3"
  },
  "language_info": {
   "codemirror_mode": {
    "name": "ipython",
    "version": 3
   },
   "file_extension": ".py",
   "mimetype": "text/x-python",
   "name": "python",
   "nbconvert_exporter": "python",
   "pygments_lexer": "ipython3",
   "version": "3.12.0"
  }
 },
 "nbformat": 4,
 "nbformat_minor": 2
}
