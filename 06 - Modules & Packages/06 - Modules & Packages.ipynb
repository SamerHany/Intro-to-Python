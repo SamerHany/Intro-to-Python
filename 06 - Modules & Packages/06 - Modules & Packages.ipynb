{
 "cells": [
  {
   "cell_type": "markdown",
   "metadata": {},
   "source": [
    "\n",
    "# Intro to Python: 6. Modules and Packages\n",
    "Welcome to the sixth tutorial in our \"Intro to Python\" series! In this notebook, we'll cover the essential concepts of modules and packages in Python.  \n",
    "By the end of this tutorial, you'll understand how to use Python's built-in modules and packages, how to install and use external packages, and how to manage and organize your code effectively.\n",
    "\n",
    "## 📚 Table of Contents\n",
    "\n",
    "1. [Introduction to Modules and Packages](#0)\n",
    "\n",
    "2. [Understanding Modules](#1)\n",
    "   1. [What is a Module?](#1_1)\n",
    "   2. [Creating a Simple Module](#1_2)\n",
    "   3. [Using Built-in Modules](#1_3)\n",
    "   4. [Importing Specific Functions and Aliasing Modules](#1_4)\n",
    "\n",
    "3. [Understanding Packages](#2)\n",
    "   1. [What is a Package?](#2_1)\n",
    "   2. [Creating the Package Structure](#2_2)\n",
    "   3. [Using the Package](#2_3)\n",
    "\n",
    "4. [Using External Packages](#3)\n",
    "   1. [Installing External Packages with pip](#3_1)\n",
    "   2. [Using the requests Package](#3_2)\n",
    "\n",
    "5. [Exercise](#4)\n"
   ]
  },
  {
   "cell_type": "markdown",
   "metadata": {},
   "source": [
    "\n",
    "---\n",
    "\n",
    "## 1. Introduction to Modules and Packages <a id=\"0\"></a>\n",
    "Modules and packages are essential components of Python that allow you to organize, reuse, and share your code. They help keep your projects modular and manageable, especially as they grow in complexity.\n",
    "\n",
    "### Why Use Modules and Packages?\n",
    "\n",
    "- **Modularity**: Break down your code into smaller, manageable parts.\n",
    "\n",
    "- **Reusability**: Reuse code across different projects or share it with others.\n",
    "\n",
    "- **Organization**: Keep your codebase clean and organized by grouping related functions and classes together.\n"
   ]
  },
  {
   "cell_type": "markdown",
   "metadata": {},
   "source": [
    "\n",
    "---\n",
    "\n",
    "## 2. Understanding Modules <a id=\"1\"></a>\n",
    "\n",
    "### 2.1 What is a Module? <a id=\"1_1\"></a>\n",
    "A module is a file containing Python code (functions, classes, variables) that can be imported and used in other Python scripts.  \n",
    "Python has a rich set of built-in modules that you can use to perform various tasks.\n",
    "\n",
    "### 2.2 Creating a Simple Module <a id=\"1_2\"></a>\n",
    "You can create your own module by writing `Python` code in a `.py` file. This allows you to reuse your code in multiple projects.\n",
    "\n",
    "#### Example: Creating and Using a Custom Module\n",
    "\n",
    "1. **Create a Module**:\n",
    "   - Create a new file named `my_module.py`.\n",
    "   - Define a simple function in this file:\n",
    "\n",
    "<div style=\"margin:2rem auto; padding:2rem 2rem 1rem 2rem; width:fit-content; border-radius: 10px; background-color: #121212; font-size: 1.5rem;\">\n",
    "\n",
    "```python\n",
    "def greet(name):\n",
    "   return f\"Hello, {name}!\"\n",
    "```\n",
    "</div>\n",
    "\n",
    "2. **Use the Module**:\n",
    "   - You can now import and use this module in another Python script.\n"
   ]
  },
  {
   "cell_type": "code",
   "execution_count": null,
   "metadata": {},
   "outputs": [],
   "source": [
    "import my_module\n",
    "\n",
    "# Use the greet function from my_module\n",
    "message = my_module.greet('Alice')\n",
    "\n",
    "print(message)  # Output: Hello, Alice!"
   ]
  },
  {
   "cell_type": "markdown",
   "metadata": {},
   "source": [
    "\n",
    "### 2.3 Using Built-in Modules <a id=\"1_3\"></a>\n",
    "\n",
    "#### 2.3.1 math Module <a id=\"1_3_1\"></a>\n",
    "The `math` module provides mathematical functions and constants. It's useful for performing complex mathematical calculations.\n"
   ]
  },
  {
   "cell_type": "code",
   "execution_count": null,
   "metadata": {},
   "outputs": [],
   "source": [
    "import math\n",
    "\n",
    "# Calculate the square root of 16 using the sqrt function\n",
    "sqrt_value = math.sqrt(16)\n",
    "print(f\"The square root of 16 is {sqrt_value}\")  # Output: 4.0\n",
    "\n",
    "# Use the value of pi from the math module\n",
    "print(f\"The value of pi is {math.pi}\")  # Output: 3.141592653589793"
   ]
  },
  {
   "cell_type": "markdown",
   "metadata": {},
   "source": [
    "\n",
    "#### 2.3.2 datetime Module <a id=\"1_3_2\"></a>\n",
    "The `datetime` module is used for working with dates and times. It allows you to manipulate dates, calculate time differences, and format date and time output.\n",
    "\n"
   ]
  },
  {
   "cell_type": "code",
   "execution_count": null,
   "metadata": {},
   "outputs": [],
   "source": [
    "import datetime\n",
    "\n",
    "# Get the current date and time\n",
    "now = datetime.datetime.now()\n",
    "print(f\"Current date and time: {now}\")\n"
   ]
  },
  {
   "cell_type": "code",
   "execution_count": null,
   "metadata": {},
   "outputs": [],
   "source": [
    "# Create a timedelta of 10 days\n",
    "delta = datetime.timedelta(days=10)\n",
    "new_date = now + delta\n",
    "print(f\"Date after 10 days: {new_date}\")\n"
   ]
  },
  {
   "cell_type": "code",
   "execution_count": null,
   "metadata": {},
   "outputs": [],
   "source": [
    "# Format the date as a string\n",
    "formatted_date = now.strftime(\"%Y-%m-%d\")\n",
    "print(f\"Formatted date: {formatted_date}\")  # Output: YYYY-MM-DD"
   ]
  },
  {
   "cell_type": "markdown",
   "metadata": {},
   "source": [
    "\n",
    "### 2.4 Importing Specific Functions and Aliasing Modules <a id=\"1_4\"></a>\n",
    "Sometimes, you may only need specific functions from a module, or you may want to alias a module to make your code cleaner.\n",
    "\n"
   ]
  },
  {
   "cell_type": "markdown",
   "metadata": {},
   "source": [
    "#### Importing Specific Functions\n",
    "You can import only the functions you need from a module, which can make your code more efficient.\n"
   ]
  },
  {
   "cell_type": "code",
   "execution_count": null,
   "metadata": {},
   "outputs": [],
   "source": [
    "from math import sqrt, pi\n",
    "\n",
    "# Now you can use sqrt and pi directly without prefixing them with math.\n",
    "print(f\"The square root of 25 is {sqrt(25)}\")  # Output: 5.0\n",
    "print(f\"The value of pi is {pi}\")  # Output: 3.141592653589793"
   ]
  },
  {
   "cell_type": "markdown",
   "metadata": {},
   "source": [
    "\n",
    "#### Aliasing Modules\n",
    "You can also alias a module to a shorter name, which can make your code cleaner and more readable."
   ]
  },
  {
   "cell_type": "code",
   "execution_count": null,
   "metadata": {},
   "outputs": [],
   "source": [
    "import datetime as dt\n",
    "\n",
    "# Now you can use dt as an alias for datetime\n",
    "current_time = dt.datetime.now()\n",
    "print(f\"Current date and time: {current_time}\")"
   ]
  },
  {
   "cell_type": "markdown",
   "metadata": {},
   "source": [
    "\n",
    "---\n",
    "\n",
    "## 3. Understanding Packages <a id=\"2\"></a>\n",
    "\n",
    "### 3.1 What is a Package? <a id=\"2_1\"></a>\n",
    "A package is a collection of modules organized in directories (folders). It allows you to structure your code into multiple modules, making it easier to manage, distribute, and reuse across different projects."
   ]
  },
  {
   "cell_type": "markdown",
   "metadata": {},
   "source": [
    "\n",
    "### 3.2 Creating the Package Structure <a id=\"2_2\"></a>\n",
    "\n",
    "Let's say we want to create a package called `geometry` with two modules: `circle` and `square`.  \n",
    "The directory structure would look like this:\n",
    "\n",
    "<div style=\"margin:2rem auto; padding:2rem 2rem 1rem 2rem; width:fit-content; border-radius: 10px; background-color: #121212; font-size: 1.5rem;\">\n",
    "\n",
    "```bash\n",
    "geometry/\n",
    "    __init__.py\n",
    "    circle.py\n",
    "    square.py\n",
    "```\n",
    "\n",
    "</div>\n",
    "\n",
    "- **`geometry/`**: The top-level directory for the package.\n",
    "\n",
    "- **`__init__.py`**: An empty file that tells Python this directory should be treated as a package.\n",
    "\n",
    "- **`circle.py`** and **`square.py`**: Two modules that contain functions to calculate the area of a circle and a square, respectively.\n",
    "\n"
   ]
  },
  {
   "cell_type": "markdown",
   "metadata": {},
   "source": [
    "### 3.3 Using the Package <a id=\"2_3\"></a>\n",
    "\n",
    "Now that we've created our package, we can use it in another script by importing it just like any other Python package:\n",
    "\n"
   ]
  },
  {
   "cell_type": "code",
   "execution_count": null,
   "metadata": {},
   "outputs": [],
   "source": [
    "# Importing specific functions from the package\n",
    "from geometry import circle, square\n",
    "\n",
    "# Using the functions\n",
    "radius = 5\n",
    "side_length = 4\n",
    "\n",
    "print(f\"Area of the circle: {circle.calculate_area(radius):.2f}\")     # Output: Area of the circle: 78.54\n",
    "print(f\"Area of the square: {square.calculate_area(side_length):.2f}\")  # Output: Area of the square: 16.00"
   ]
  },
  {
   "cell_type": "markdown",
   "metadata": {},
   "source": [
    "\n",
    "---\n",
    "\n",
    "## 4. Using External Packages <a id=\"3\"></a>\n"
   ]
  },
  {
   "cell_type": "markdown",
   "metadata": {},
   "source": [
    "\n",
    "### 4.1 Installing External Packages with `pip` <a id=\"3_1\"></a>\n",
    "`pip` is the package installer for Python, and it allows you to install external packages that are not included with Python by default.\n",
    "\n",
    "#### Installing the requests package using `pip`:\n",
    "\n",
    "<div style=\"margin:2rem auto; padding:2rem 2rem 1rem 2rem; width:fit-content; border-radius: 10px; background-color: #121212; font-size: 1.5rem;\">\n",
    "\n",
    "```bash\n",
    "pip install {package_name}\n",
    "\n",
    "# example\n",
    "pip install requests\n",
    "```\n",
    "\n",
    "</div>\n"
   ]
  },
  {
   "cell_type": "markdown",
   "metadata": {},
   "source": [
    "\n",
    "### 4.2 Using the requests Package <a id=\"3_2\"></a>\n",
    "The `requests` package is a simple and elegant HTTP library for Python, which allows you to send HTTP requests and interact with web services.  \n",
    "\n",
    "*`Documentation`: https://pypi.org/project/requests/*\n",
    "\n",
    "#### Example: Generating random user details using API\n",
    "You can use the `requests` package to make an API call to generate random user details for testing your applications."
   ]
  },
  {
   "cell_type": "code",
   "execution_count": null,
   "metadata": {},
   "outputs": [],
   "source": [
    "import requests\n",
    "import pprint\n",
    "\n",
    "# URL for the time API\n",
    "url = \"https://randomuser.me/api/\"\n",
    "\n",
    "# Make a GET request to the API\n",
    "response = requests.get(url)\n",
    "\n",
    "# Parse the JSON response\n",
    "data = response.json()\n",
    "\n",
    "# print the data\n",
    "# print(data)\n",
    "pprint.pprint(data)\n"
   ]
  },
  {
   "cell_type": "markdown",
   "metadata": {},
   "source": [
    "\n",
    "---\n",
    "\n",
    "## 5. Exercise <a id=\"4\"></a>\n",
    "\n",
    "\n",
    "### Creating and Manipulating an Excel File\n",
    "\n",
    "**Objective**:\n",
    "Use the `openpyxl` package to create an Excel file, write data to it, and perform basic operations such as adding formulas.\n",
    "\n",
    "*Documentation: https://pypi.org/project/openpyxl/*\n",
    "\n",
    "**Requirements**:\n",
    "1. **Create an Excel File**:\n",
    "\n",
    "   - Use `openpyxl` to create a new Excel file.\n",
    "\n",
    "2. **Add Data to the File**:\n",
    "\n",
    "   - Populate the sheet with sample sales data, including columns for `Product`, `Quantity`, `Price`, and `Total`.\n",
    "\n",
    "   - Use formulas to calculate the total sales for each product (`Total = Quantity * Price`).\n",
    "\n",
    "   - Format the `Price` & `Total` columns as currency number format (`'\"$\"#,##0.00'`)\n",
    "\n",
    "3. **Add a Total Row**:\n",
    "\n",
    "   - Add a formula to calculate the sum of all sales at the bottom of the `Total` column.\n",
    "\n",
    "4. **Save the File**:\n",
    "\n",
    "   - Save the Excel file as `sales_report.xlsx`."
   ]
  },
  {
   "cell_type": "code",
   "execution_count": null,
   "metadata": {},
   "outputs": [],
   "source": [
    "# Step 1: Import the openpyxl module\n",
    "from openpyxl import Workbook\n",
    "\n",
    "# Step 2: Create a new workbook and select the active sheet\n",
    "# TODO\n",
    "\n",
    "# Step 3: Add column headers\n",
    "# Columns:  A          B           C        D\n",
    "headers = ['Product', 'Quantity', 'Price', 'Total']\n",
    "# TODO\n",
    "\n",
    "# Step 4: Add sample sales data\n",
    "sales_data = [\n",
    "    ['Product A', 10, 15.00],\n",
    "    ['Product B', 8, 12.50],\n",
    "    ['Product C', 5, 20.00]\n",
    "]\n",
    "# TODO\n",
    "\n",
    "\n",
    "# Step 5: Add a formula to calculate the total sum of all sales & format as currency\n",
    "# TODO\n",
    "\n",
    "# Step 6: Save the workbook\n",
    "# TODO\n",
    "\n",
    "print(\"Excel file 'sales_report.xlsx' created successfully.\")"
   ]
  },
  {
   "cell_type": "markdown",
   "metadata": {},
   "source": [
    "\n",
    "<details>\n",
    "<summary>💡 Solution</summary>\n",
    "\n",
    "```python\n",
    "# Step 1: Import the openpyxl module\n",
    "from openpyxl import Workbook\n",
    "\n",
    "# Step 2: Create a new workbook and select the active sheet\n",
    "wb = Workbook()\n",
    "ws = wb.active\n",
    "\n",
    "# Step 3: Add column headers\n",
    "#          A          B           C        D\n",
    "headers = ['Product', 'Quantity', 'Price', 'Total']\n",
    "ws.append(headers)\n",
    "\n",
    "# Step 4: Add sample sales data\n",
    "sales_data = [\n",
    "    ['Product A', 10, 15.00],\n",
    "    ['Product B', 8, 12.50],\n",
    "    ['Product C', 5, 20.00]\n",
    "]\n",
    "# loop through all the sales data\n",
    "for i, row in enumerate(sales_data):\n",
    "    # append the total formula\n",
    "    total_formula = f\"=B{i + 2}*C{i + 2}\"\n",
    "    row.append(total_formula)\n",
    "\n",
    "    # append the row to the worksheet\n",
    "    ws.append(row)\n",
    "\n",
    "    # format the price & total columns as currency\n",
    "    ws[f\"C{i + 2}\"].number_format = '\"$\"#,##0.00'\n",
    "    ws[f\"D{i + 2}\"].number_format = '\"$\"#,##0.00'\n",
    "\n",
    "\n",
    "# Step 5: Add a formula to calculate the total sum of all sales & format as currency\n",
    "# add total label in column A\n",
    "ws[f\"A{len(sales_data) + 2}\"] = \"Total\"\n",
    "ws[f\"D{len(sales_data) + 2}\"] = f\"=SUM(D2:D{len(sales_data) + 1})\"\n",
    "ws[f\"D{len(sales_data) + 2}\"].number_format = '\"$\"#,##0.00'\n",
    "\n",
    "# Step 6: Save the workbook\n",
    "wb.save(\"sales_report.xlsx\")\n",
    "\n",
    "print(\"Excel file 'sales_report.xlsx' created successfully.\")\n",
    "```\n",
    "\n",
    "</details>"
   ]
  },
  {
   "cell_type": "markdown",
   "metadata": {},
   "source": [
    "\n",
    "---\n",
    "\n",
    "## 👨‍💻 Author\n",
    "\n",
    "**Samer Hany** | Full-stack Developer & Data Scientist\n",
    "\n",
    "<table style=\"border:none;\">\n",
    "  <tr>\n",
    "    <td style=\"padding: 5px 0; border:none;\">- Website:</td>\n",
    "    <td style=\"padding: 5px; border:none;\"><a href=\"https://samerhany.com\">samerhany.com</a></td>\n",
    "  </tr>\n",
    "  <tr>\n",
    "    <td style=\"padding: 5px 0; border:none;\">- LinkedIn:</td>\n",
    "    <td style=\"padding: 5px; border:none;\"><a href=\"https://linkedin.com/in/samer-hany\">in/samer-hany</a></td>\n",
    "  </tr>\n",
    "  <tr>\n",
    "    <td style=\"padding: 5px 0; border:none;\">- YouTube:</td>\n",
    "    <td style=\"padding: 5px; border:none;\"><a href=\"https://www.youtube.com/@SamerHany\">c/SamerHany</a></td>\n",
    "  </tr>\n",
    "  <tr>\n",
    "    <td style=\"padding: 5px 0; border:none;\">- GitHub:</td>\n",
    "    <td style=\"padding: 5px; border:none;\"><a href=\"https://github.com/SamerHany\">/SamerHany</a></td>\n",
    "  </tr>\n",
    "  <tr>\n",
    "    <td style=\"padding: 5px 0; border:none;\">- Discord:</td>\n",
    "    <td style=\"padding: 5px; border:none;\"><a href=\"https://discord.gg/7ZzmGWQR\">Join our Community</a></td>\n",
    "  </tr>\n",
    "</table>\n"
   ]
  }
 ],
 "metadata": {
  "kernelspec": {
   "display_name": "Python 3",
   "language": "python",
   "name": "python3"
  },
  "language_info": {
   "codemirror_mode": {
    "name": "ipython",
    "version": 3
   },
   "file_extension": ".py",
   "mimetype": "text/x-python",
   "name": "python",
   "nbconvert_exporter": "python",
   "pygments_lexer": "ipython3",
   "version": "3.12.0"
  }
 },
 "nbformat": 4,
 "nbformat_minor": 2
}
